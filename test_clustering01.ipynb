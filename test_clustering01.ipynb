{
 "cells": [
  {
   "cell_type": "code",
   "execution_count": 2,
   "metadata": {},
   "outputs": [],
   "source": [
    "import numpy as np\n",
    "import pandas as pd\n",
    "from sklearn.cluster import KMeans\n",
    "from sklearn.feature_extraction.text import TfidfVectorizer\n",
    "from sklearn.metrics.pairwise import cosine_similarity"
   ]
  },
  {
   "cell_type": "markdown",
   "metadata": {},
   "source": [
    "<font color=\"red\">Vectorize Sentences</font>"
   ]
  },
  {
   "cell_type": "code",
   "execution_count": 3,
   "metadata": {},
   "outputs": [
    {
     "name": "stdout",
     "output_type": "stream",
     "text": [
      "{'love': 38, 'playing': 53, 'football': 17, 'on': 48, 'the': 65, 'weekends': 79, 'love playing': 41, 'playing football': 54, 'football on': 18, 'on the': 49, 'the weekends': 67, 'love playing football': 42, 'playing football on': 55, 'football on the': 19, 'on the weekends': 50, 'enjoy': 14, 'hiking': 26, 'and': 0, 'camping': 10, 'in': 29, 'mountains': 43, 'enjoy hiking': 15, 'hiking and': 27, 'and camping': 1, 'camping in': 11, 'in the': 30, 'the mountains': 66, 'enjoy hiking and': 16, 'hiking and camping': 28, 'and camping in': 2, 'camping in the': 12, 'in the mountains': 31, 'like': 32, 'to': 68, 'read': 61, 'books': 7, 'watch': 77, 'movies': 44, 'like to': 33, 'to read': 72, 'read books': 62, 'books and': 8, 'and watch': 5, 'watch movies': 78, 'like to read': 34, 'to read books': 73, 'read books and': 63, 'books and watch': 9, 'and watch movies': 6, 'prefer': 58, 'video': 74, 'games': 20, 'over': 51, 'sports': 64, 'prefer playing': 59, 'playing video': 56, 'video games': 75, 'games over': 21, 'over sports': 52, 'prefer playing video': 60, 'playing video games': 57, 'video games over': 76, 'games over sports': 22, 'listening': 35, 'music': 45, 'going': 23, 'concerts': 13, 'love listening': 39, 'listening to': 36, 'to music': 70, 'music and': 46, 'and going': 3, 'going to': 24, 'to concerts': 69, 'love listening to': 40, 'listening to music': 37, 'to music and': 71, 'music and going': 47, 'and going to': 4, 'going to concerts': 25}\n",
      "  (0, 50)\t0.2677134069656729\n",
      "  (0, 19)\t0.2677134069656729\n",
      "  (0, 55)\t0.2677134069656729\n",
      "  (0, 42)\t0.2677134069656729\n",
      "  (0, 67)\t0.2677134069656729\n",
      "  (0, 49)\t0.2677134069656729\n",
      "  (0, 18)\t0.2677134069656729\n",
      "  (0, 54)\t0.2677134069656729\n",
      "  (0, 41)\t0.2677134069656729\n",
      "  (0, 79)\t0.2677134069656729\n",
      "  (0, 65)\t0.21598949107922194\n",
      "  (0, 48)\t0.2677134069656729\n",
      "  (0, 17)\t0.2677134069656729\n",
      "  (0, 53)\t0.21598949107922194\n",
      "  (0, 38)\t0.21598949107922194\n",
      "  (1, 31)\t0.2418294487817564\n",
      "  (1, 12)\t0.2418294487817564\n",
      "  (1, 2)\t0.2418294487817564\n",
      "  (1, 28)\t0.2418294487817564\n",
      "  (1, 16)\t0.2418294487817564\n",
      "  (1, 66)\t0.2418294487817564\n",
      "  (1, 30)\t0.2418294487817564\n",
      "  (1, 11)\t0.2418294487817564\n",
      "  (1, 1)\t0.2418294487817564\n",
      "  (1, 27)\t0.2418294487817564\n",
      "  :\t:\n",
      "  (3, 51)\t0.2612568039321974\n",
      "  (3, 20)\t0.2612568039321974\n",
      "  (3, 74)\t0.2612568039321974\n",
      "  (3, 58)\t0.2612568039321974\n",
      "  (3, 53)\t0.2107803444058925\n",
      "  (4, 25)\t0.21977706632873925\n",
      "  (4, 4)\t0.21977706632873925\n",
      "  (4, 47)\t0.21977706632873925\n",
      "  (4, 71)\t0.21977706632873925\n",
      "  (4, 37)\t0.21977706632873925\n",
      "  (4, 40)\t0.21977706632873925\n",
      "  (4, 69)\t0.21977706632873925\n",
      "  (4, 24)\t0.21977706632873925\n",
      "  (4, 3)\t0.21977706632873925\n",
      "  (4, 46)\t0.21977706632873925\n",
      "  (4, 70)\t0.21977706632873925\n",
      "  (4, 36)\t0.21977706632873925\n",
      "  (4, 39)\t0.21977706632873925\n",
      "  (4, 13)\t0.21977706632873925\n",
      "  (4, 23)\t0.21977706632873925\n",
      "  (4, 45)\t0.21977706632873925\n",
      "  (4, 35)\t0.21977706632873925\n",
      "  (4, 68)\t0.3546295065701771\n",
      "  (4, 0)\t0.14718726272371824\n",
      "  (4, 38)\t0.17731475328508856\n"
     ]
    }
   ],
   "source": [
    "# Sample dataset\n",
    "datalist = [\"I love playing football on the weekends\",\n",
    "           \"I enjoy hiking and camping in the mountains\",\n",
    "           \"I like to read books and watch movies\",\n",
    "           \"I prefer playing video games over sports\",\n",
    "           \"I love listening to music and going to concerts\"\n",
    "           ]\n",
    "\n",
    "\n",
    "\n",
    "# Vectorize the dataset\n",
    "vectorizer = TfidfVectorizer(ngram_range=(1,3)) # default is 1,1 ; bigram or number of words combination is desired  ?\n",
    "tfidf_matrix = vectorizer.fit_transform(datalist)\n",
    "\n",
    "print(vectorizer.vocabulary_) # SNo for each word to refer\n",
    "print(tfidf_matrix) # this is simply the probability of ith record and jth number word. "
   ]
  },
  {
   "cell_type": "code",
   "execution_count": 4,
   "metadata": {},
   "outputs": [
    {
     "data": {
      "text/plain": [
       "array([0.        , 0.        , 0.        , 0.        , 0.        ,\n",
       "       0.        , 0.        , 0.        , 0.        , 0.        ,\n",
       "       0.        , 0.        , 0.        , 0.        , 0.        ,\n",
       "       0.        , 0.        , 0.26771341, 0.26771341, 0.26771341,\n",
       "       0.        , 0.        , 0.        , 0.        , 0.        ,\n",
       "       0.        , 0.        , 0.        , 0.        , 0.        ,\n",
       "       0.        , 0.        , 0.        , 0.        , 0.        ,\n",
       "       0.        , 0.        , 0.        , 0.21598949, 0.        ,\n",
       "       0.        , 0.26771341, 0.26771341, 0.        , 0.        ,\n",
       "       0.        , 0.        , 0.        , 0.26771341, 0.26771341,\n",
       "       0.26771341, 0.        , 0.        , 0.21598949, 0.26771341,\n",
       "       0.26771341, 0.        , 0.        , 0.        , 0.        ,\n",
       "       0.        , 0.        , 0.        , 0.        , 0.        ,\n",
       "       0.21598949, 0.        , 0.26771341, 0.        , 0.        ,\n",
       "       0.        , 0.        , 0.        , 0.        , 0.        ,\n",
       "       0.        , 0.        , 0.        , 0.        , 0.26771341])"
      ]
     },
     "execution_count": 4,
     "metadata": {},
     "output_type": "execute_result"
    }
   ],
   "source": [
    "# MATRIX to be fed to the clustering\n",
    "tfidf_matrix.toarray()[0] #first sentence"
   ]
  },
  {
   "cell_type": "code",
   "execution_count": null,
   "metadata": {},
   "outputs": [],
   "source": []
  },
  {
   "cell_type": "markdown",
   "metadata": {},
   "source": [
    "<font color=\"red\">Clustering Vectors</font>"
   ]
  },
  {
   "cell_type": "code",
   "execution_count": 5,
   "metadata": {},
   "outputs": [
    {
     "data": {
      "text/html": [
       "<style>#sk-container-id-1 {color: black;}#sk-container-id-1 pre{padding: 0;}#sk-container-id-1 div.sk-toggleable {background-color: white;}#sk-container-id-1 label.sk-toggleable__label {cursor: pointer;display: block;width: 100%;margin-bottom: 0;padding: 0.3em;box-sizing: border-box;text-align: center;}#sk-container-id-1 label.sk-toggleable__label-arrow:before {content: \"▸\";float: left;margin-right: 0.25em;color: #696969;}#sk-container-id-1 label.sk-toggleable__label-arrow:hover:before {color: black;}#sk-container-id-1 div.sk-estimator:hover label.sk-toggleable__label-arrow:before {color: black;}#sk-container-id-1 div.sk-toggleable__content {max-height: 0;max-width: 0;overflow: hidden;text-align: left;background-color: #f0f8ff;}#sk-container-id-1 div.sk-toggleable__content pre {margin: 0.2em;color: black;border-radius: 0.25em;background-color: #f0f8ff;}#sk-container-id-1 input.sk-toggleable__control:checked~div.sk-toggleable__content {max-height: 200px;max-width: 100%;overflow: auto;}#sk-container-id-1 input.sk-toggleable__control:checked~label.sk-toggleable__label-arrow:before {content: \"▾\";}#sk-container-id-1 div.sk-estimator input.sk-toggleable__control:checked~label.sk-toggleable__label {background-color: #d4ebff;}#sk-container-id-1 div.sk-label input.sk-toggleable__control:checked~label.sk-toggleable__label {background-color: #d4ebff;}#sk-container-id-1 input.sk-hidden--visually {border: 0;clip: rect(1px 1px 1px 1px);clip: rect(1px, 1px, 1px, 1px);height: 1px;margin: -1px;overflow: hidden;padding: 0;position: absolute;width: 1px;}#sk-container-id-1 div.sk-estimator {font-family: monospace;background-color: #f0f8ff;border: 1px dotted black;border-radius: 0.25em;box-sizing: border-box;margin-bottom: 0.5em;}#sk-container-id-1 div.sk-estimator:hover {background-color: #d4ebff;}#sk-container-id-1 div.sk-parallel-item::after {content: \"\";width: 100%;border-bottom: 1px solid gray;flex-grow: 1;}#sk-container-id-1 div.sk-label:hover label.sk-toggleable__label {background-color: #d4ebff;}#sk-container-id-1 div.sk-serial::before {content: \"\";position: absolute;border-left: 1px solid gray;box-sizing: border-box;top: 0;bottom: 0;left: 50%;z-index: 0;}#sk-container-id-1 div.sk-serial {display: flex;flex-direction: column;align-items: center;background-color: white;padding-right: 0.2em;padding-left: 0.2em;position: relative;}#sk-container-id-1 div.sk-item {position: relative;z-index: 1;}#sk-container-id-1 div.sk-parallel {display: flex;align-items: stretch;justify-content: center;background-color: white;position: relative;}#sk-container-id-1 div.sk-item::before, #sk-container-id-1 div.sk-parallel-item::before {content: \"\";position: absolute;border-left: 1px solid gray;box-sizing: border-box;top: 0;bottom: 0;left: 50%;z-index: -1;}#sk-container-id-1 div.sk-parallel-item {display: flex;flex-direction: column;z-index: 1;position: relative;background-color: white;}#sk-container-id-1 div.sk-parallel-item:first-child::after {align-self: flex-end;width: 50%;}#sk-container-id-1 div.sk-parallel-item:last-child::after {align-self: flex-start;width: 50%;}#sk-container-id-1 div.sk-parallel-item:only-child::after {width: 0;}#sk-container-id-1 div.sk-dashed-wrapped {border: 1px dashed gray;margin: 0 0.4em 0.5em 0.4em;box-sizing: border-box;padding-bottom: 0.4em;background-color: white;}#sk-container-id-1 div.sk-label label {font-family: monospace;font-weight: bold;display: inline-block;line-height: 1.2em;}#sk-container-id-1 div.sk-label-container {text-align: center;}#sk-container-id-1 div.sk-container {/* jupyter's `normalize.less` sets `[hidden] { display: none; }` but bootstrap.min.css set `[hidden] { display: none !important; }` so we also need the `!important` here to be able to override the default hidden behavior on the sphinx rendered scikit-learn.org. See: https://github.com/scikit-learn/scikit-learn/issues/21755 */display: inline-block !important;position: relative;}#sk-container-id-1 div.sk-text-repr-fallback {display: none;}</style><div id=\"sk-container-id-1\" class=\"sk-top-container\"><div class=\"sk-text-repr-fallback\"><pre>KMeans(max_iter=500, n_clusters=2, n_init=&#x27;auto&#x27;, random_state=123)</pre><b>In a Jupyter environment, please rerun this cell to show the HTML representation or trust the notebook. <br />On GitHub, the HTML representation is unable to render, please try loading this page with nbviewer.org.</b></div><div class=\"sk-container\" hidden><div class=\"sk-item\"><div class=\"sk-estimator sk-toggleable\"><input class=\"sk-toggleable__control sk-hidden--visually\" id=\"sk-estimator-id-1\" type=\"checkbox\" checked><label for=\"sk-estimator-id-1\" class=\"sk-toggleable__label sk-toggleable__label-arrow\">KMeans</label><div class=\"sk-toggleable__content\"><pre>KMeans(max_iter=500, n_clusters=2, n_init=&#x27;auto&#x27;, random_state=123)</pre></div></div></div></div></div>"
      ],
      "text/plain": [
       "KMeans(max_iter=500, n_clusters=2, n_init='auto', random_state=123)"
      ]
     },
     "execution_count": 5,
     "metadata": {},
     "output_type": "execute_result"
    }
   ],
   "source": [
    "NUMBER_OF_CLUSTERS = 2\n",
    "km = KMeans(n_init='auto', init='k-means++', max_iter=500, n_clusters=NUMBER_OF_CLUSTERS, random_state=123)\n",
    "km.fit(tfidf_matrix)"
   ]
  },
  {
   "cell_type": "code",
   "execution_count": 6,
   "metadata": {},
   "outputs": [
    {
     "data": {
      "text/plain": [
       "array([0, 1, 1, 0, 1])"
      ]
     },
     "execution_count": 6,
     "metadata": {},
     "output_type": "execute_result"
    }
   ],
   "source": [
    "km.predict(tfidf_matrix)"
   ]
  },
  {
   "cell_type": "code",
   "execution_count": 6,
   "metadata": {},
   "outputs": [],
   "source": [
    "# Get cluster centroids"
   ]
  },
  {
   "cell_type": "markdown",
   "metadata": {},
   "source": [
    "<font color=\"red\">PLOT</font>"
   ]
  },
  {
   "cell_type": "code",
   "execution_count": 8,
   "metadata": {},
   "outputs": [],
   "source": [
    "from sklearn.decomposition import PCA\n",
    "\n",
    "# First: for every document we get its corresponding cluster\n",
    "clusters = km.predict(tfidf_matrix)\n",
    "\n",
    "# We train the PCA on the dense version of the tf-idf. \n",
    "pca = PCA(n_components=2)\n",
    "two_dim = pca.fit_transform(tfidf_matrix.toarray())\n",
    "\n",
    "scatter_x = two_dim[:, 0] # first principle component\n",
    "scatter_y = two_dim[:, 1] # second principle component"
   ]
  },
  {
   "cell_type": "code",
   "execution_count": 14,
   "metadata": {},
   "outputs": [
    {
     "data": {
      "image/png": "[encoded data removed]",
      "text/plain": [
       "<Figure size 800x400 with 1 Axes>"
      ]
     },
     "metadata": {},
     "output_type": "display_data"
    }
   ],
   "source": [
    "import numpy as np\n",
    "import matplotlib.pyplot as plt\n",
    "\n",
    "plt.style.use('ggplot')\n",
    "\n",
    "fig, ax = plt.subplots()\n",
    "fig.set_size_inches(8,4)\n",
    "\n",
    "# color map for NUMBER_OF_CLUSTERS we have\n",
    "cmap = {0: 'green', 1: 'blue', 2: 'red'}\n",
    "\n",
    "# group by clusters and scatter plot every cluster\n",
    "# with a colour and a label\n",
    "for group in np.unique(clusters):\n",
    "    ix = np.where(clusters == group)\n",
    "    ax.scatter(scatter_x[ix], scatter_y[ix], c=cmap[group], label=group)\n",
    "\n",
    "ax.legend()\n",
    "plt.xlabel(\"PCA 0\")\n",
    "plt.ylabel(\"PCA 1\")\n",
    "plt.show()"
   ]
  },
  {
   "cell_type": "markdown",
   "metadata": {},
   "source": [
    "<font color=\"red\">Most spoken words per cluster</font>"
   ]
  },
  {
   "cell_type": "code",
   "execution_count": 12,
   "metadata": {},
   "outputs": [
    {
     "name": "stdout",
     "output_type": "stream",
     "text": [
      "Cluster 0: playing weekends the weekends football on the football on football love playing love playing football on on the\n",
      "Cluster 1: to and in enjoy enjoy hiking enjoy hiking and hiking hiking and hiking and camping in the\n"
     ]
    }
   ],
   "source": [
    "# Print top 10 words in every cluster.\n",
    "order_centroids = km.cluster_centers_.argsort()[:, ::-1]\n",
    "\n",
    "terms = vectorizer.get_feature_names_out()\n",
    "for i in range(len(np.unique(clusters))):\n",
    "    print(\"Cluster %d:\" % i, end='')\n",
    "    for ind in order_centroids[i, :10]:\n",
    "        print(' %s' % terms[ind], end='')\n",
    "    print()"
   ]
  },
  {
   "cell_type": "code",
   "execution_count": null,
   "metadata": {},
   "outputs": [],
   "source": []
  },
  {
   "cell_type": "code",
   "execution_count": null,
   "metadata": {},
   "outputs": [],
   "source": []
  },
  {
   "cell_type": "markdown",
   "metadata": {},
   "source": [
    "<font color=\"cyan\">TESTING</font>"
   ]
  },
  {
   "cell_type": "code",
   "execution_count": 7,
   "metadata": {},
   "outputs": [
    {
     "data": {
      "text/html": [
       "<div>\n",
       "<style scoped>\n",
       "    .dataframe tbody tr th:only-of-type {\n",
       "        vertical-align: middle;\n",
       "    }\n",
       "\n",
       "    .dataframe tbody tr th {\n",
       "        vertical-align: top;\n",
       "    }\n",
       "\n",
       "    .dataframe thead th {\n",
       "        text-align: right;\n",
       "    }\n",
       "</style>\n",
       "<table border=\"1\" class=\"dataframe\">\n",
       "  <thead>\n",
       "    <tr style=\"text-align: right;\">\n",
       "      <th></th>\n",
       "      <th>Sentences</th>\n",
       "      <th>Vectors</th>\n",
       "      <th>clusers</th>\n",
       "    </tr>\n",
       "  </thead>\n",
       "  <tbody>\n",
       "    <tr>\n",
       "      <th>0</th>\n",
       "      <td>I love playing football on the weekends</td>\n",
       "      <td>[0.0, 0.0, 0.0, 0.0, 0.0, 0.0, 0.0, 0.0, 0.0, ...</td>\n",
       "      <td>0</td>\n",
       "    </tr>\n",
       "    <tr>\n",
       "      <th>1</th>\n",
       "      <td>I enjoy hiking and camping in the mountains</td>\n",
       "      <td>[0.16195600026315327, 0.2418294487817564, 0.24...</td>\n",
       "      <td>1</td>\n",
       "    </tr>\n",
       "    <tr>\n",
       "      <th>2</th>\n",
       "      <td>I like to read books and watch movies</td>\n",
       "      <td>[0.16195600026315327, 0.0, 0.0, 0.0, 0.0, 0.24...</td>\n",
       "      <td>1</td>\n",
       "    </tr>\n",
       "    <tr>\n",
       "      <th>3</th>\n",
       "      <td>I prefer playing video games over sports</td>\n",
       "      <td>[0.0, 0.0, 0.0, 0.0, 0.0, 0.0, 0.0, 0.0, 0.0, ...</td>\n",
       "      <td>0</td>\n",
       "    </tr>\n",
       "    <tr>\n",
       "      <th>4</th>\n",
       "      <td>I love listening to music and going to concerts</td>\n",
       "      <td>[0.14718726272371824, 0.0, 0.0, 0.219777066328...</td>\n",
       "      <td>1</td>\n",
       "    </tr>\n",
       "  </tbody>\n",
       "</table>\n",
       "</div>"
      ],
      "text/plain": [
       "                                         Sentences  \\\n",
       "0          I love playing football on the weekends   \n",
       "1      I enjoy hiking and camping in the mountains   \n",
       "2            I like to read books and watch movies   \n",
       "3         I prefer playing video games over sports   \n",
       "4  I love listening to music and going to concerts   \n",
       "\n",
       "                                             Vectors  clusers  \n",
       "0  [0.0, 0.0, 0.0, 0.0, 0.0, 0.0, 0.0, 0.0, 0.0, ...        0  \n",
       "1  [0.16195600026315327, 0.2418294487817564, 0.24...        1  \n",
       "2  [0.16195600026315327, 0.0, 0.0, 0.0, 0.0, 0.24...        1  \n",
       "3  [0.0, 0.0, 0.0, 0.0, 0.0, 0.0, 0.0, 0.0, 0.0, ...        0  \n",
       "4  [0.14718726272371824, 0.0, 0.0, 0.219777066328...        1  "
      ]
     },
     "execution_count": 7,
     "metadata": {},
     "output_type": "execute_result"
    }
   ],
   "source": [
    "df = pd.DataFrame(datalist, columns=[\"Sentences\"])\n",
    "df[\"Vectors\"] = list(tfidf_matrix.toarray())\n",
    "df[\"clusers\"] = km.predict(tfidf_matrix)\n",
    "df"
   ]
  }
 ],
 "metadata": {
  "kernelspec": {
   "display_name": "venv",
   "language": "python",
   "name": "python3"
  },
  "language_info": {
   "codemirror_mode": {
    "name": "ipython",
    "version": 3
   },
   "file_extension": ".py",
   "mimetype": "text/x-python",
   "name": "python",
   "nbconvert_exporter": "python",
   "pygments_lexer": "ipython3",
   "version": "3.9.0"
  }
 },
 "nbformat": 4,
 "nbformat_minor": 2
}

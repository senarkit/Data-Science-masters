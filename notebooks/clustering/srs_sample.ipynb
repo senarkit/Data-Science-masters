{
 "cells": [
  {
   "cell_type": "code",
   "execution_count": 4,
   "id": "11b76a64-9202-435d-9d24-e0787be67664",
   "metadata": {},
   "outputs": [],
   "source": [
    "import pandas as pd\n",
    "import numpy as np\n",
    "from random import randint"
   ]
  },
  {
   "cell_type": "markdown",
   "id": "230c4a6b-634b-4324-987c-1cc146fc2c74",
   "metadata": {},
   "source": [
    "<b> Generate data"
   ]
  },
  {
   "cell_type": "code",
   "execution_count": 49,
   "id": "a675144a-9a17-480d-b955-da165e8c19b6",
   "metadata": {},
   "outputs": [],
   "source": [
    "def generate_ids(len_in):\n",
    "    id_list = []\n",
    "    for i in range(int(len_in*0.3)):\n",
    "        id_list.append(\"HK4023\" + str(randint(1110, 9999)))\n",
    "    for i in range(int(len_in*0.4)):\n",
    "        id_list.append(\"HK4023\" + str(randint(1110, 9999)) + \"00A\")\n",
    "    for i in range(int(len_in*0.1)):\n",
    "        id_list.append(\"HK4023\" + str(randint(111000, 999999)))\n",
    "    for i in range(int(len_in*0.1)):\n",
    "        id_list.append(\"HK4023\" + str(randint(111000, 999999)) + \"00A\")\n",
    "    for i in range(int(len_in*0.1)):\n",
    "        id_list.append(\"HK4023\" + ''.join([str(ord(a)) for a in str(randint(111011, 999999))]))\n",
    "    return pd.DataFrame(id_list, columns=[\"ID\"])"
   ]
  },
  {
   "cell_type": "markdown",
   "id": "143fcf19-472c-4ed3-a62d-29aceb425d59",
   "metadata": {},
   "source": [
    "<b> Take a sample"
   ]
  },
  {
   "cell_type": "code",
   "execution_count": 73,
   "id": "055aa095-0973-46b1-87b2-06f521391fc7",
   "metadata": {},
   "outputs": [
    {
     "data": {
      "text/html": [
       "<div>\n",
       "<style scoped>\n",
       "    .dataframe tbody tr th:only-of-type {\n",
       "        vertical-align: middle;\n",
       "    }\n",
       "\n",
       "    .dataframe tbody tr th {\n",
       "        vertical-align: top;\n",
       "    }\n",
       "\n",
       "    .dataframe thead th {\n",
       "        text-align: right;\n",
       "    }\n",
       "</style>\n",
       "<table border=\"1\" class=\"dataframe\">\n",
       "  <thead>\n",
       "    <tr style=\"text-align: right;\">\n",
       "      <th></th>\n",
       "      <th>ID</th>\n",
       "    </tr>\n",
       "  </thead>\n",
       "  <tbody>\n",
       "    <tr>\n",
       "      <th>7</th>\n",
       "      <td>HK40231848</td>\n",
       "    </tr>\n",
       "    <tr>\n",
       "      <th>10</th>\n",
       "      <td>HK40231412</td>\n",
       "    </tr>\n",
       "    <tr>\n",
       "      <th>39</th>\n",
       "      <td>HK4023190122</td>\n",
       "    </tr>\n",
       "    <tr>\n",
       "      <th>38</th>\n",
       "      <td>HK4023674386</td>\n",
       "    </tr>\n",
       "    <tr>\n",
       "      <th>21</th>\n",
       "      <td>HK4023960900A</td>\n",
       "    </tr>\n",
       "    <tr>\n",
       "      <th>23</th>\n",
       "      <td>HK4023191700A</td>\n",
       "    </tr>\n",
       "    <tr>\n",
       "      <th>41</th>\n",
       "      <td>HK402391790200A</td>\n",
       "    </tr>\n",
       "    <tr>\n",
       "      <th>42</th>\n",
       "      <td>HK402360651900A</td>\n",
       "    </tr>\n",
       "    <tr>\n",
       "      <th>48</th>\n",
       "      <td>HK4023495651495156</td>\n",
       "    </tr>\n",
       "    <tr>\n",
       "      <th>45</th>\n",
       "      <td>HK4023504849505455</td>\n",
       "    </tr>\n",
       "  </tbody>\n",
       "</table>\n",
       "</div>"
      ],
      "text/plain": [
       "                    ID\n",
       "7           HK40231848\n",
       "10          HK40231412\n",
       "39        HK4023190122\n",
       "38        HK4023674386\n",
       "21       HK4023960900A\n",
       "23       HK4023191700A\n",
       "41     HK402391790200A\n",
       "42     HK402360651900A\n",
       "48  HK4023495651495156\n",
       "45  HK4023504849505455"
      ]
     },
     "execution_count": 73,
     "metadata": {},
     "output_type": "execute_result"
    }
   ],
   "source": [
    "ids = generate_ids(50)\n",
    "ids[\"type\"] = ids.ID.apply(lambda x : len(x))\n",
    "ids_sample = ids.groupby(['type']).sample(2, random_state=123)[['ID']]\n",
    "ids_sample"
   ]
  },
  {
   "cell_type": "code",
   "execution_count": null,
   "id": "bb4992a9-da7f-4dba-866c-35e5a6586e64",
   "metadata": {},
   "outputs": [],
   "source": []
  }
 ],
 "metadata": {
  "kernelspec": {
   "display_name": "Python 3 (ipykernel)",
   "language": "python",
   "name": "python3"
  },
  "language_info": {
   "codemirror_mode": {
    "name": "ipython",
    "version": 3
   },
   "file_extension": ".py",
   "mimetype": "text/x-python",
   "name": "python",
   "nbconvert_exporter": "python",
   "pygments_lexer": "ipython3",
   "version": "3.9.0"
  }
 },
 "nbformat": 4,
 "nbformat_minor": 5
}

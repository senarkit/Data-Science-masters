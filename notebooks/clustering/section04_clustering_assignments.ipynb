{
 "cells": [
  {
   "cell_type": "markdown",
   "id": "8ee8137d",
   "metadata": {},
   "source": [
    "# Clustering Assignments"
   ]
  },
  {
   "cell_type": "markdown",
   "id": "6a8cae99",
   "metadata": {},
   "source": [
    "## 1. K-Means Clustering"
   ]
  },
  {
   "cell_type": "code",
   "execution_count": 1,
   "id": "dc371657",
   "metadata": {},
   "outputs": [
    {
     "data": {
      "text/html": [
       "<div>\n",
       "<style scoped>\n",
       "    .dataframe tbody tr th:only-of-type {\n",
       "        vertical-align: middle;\n",
       "    }\n",
       "\n",
       "    .dataframe tbody tr th {\n",
       "        vertical-align: top;\n",
       "    }\n",
       "\n",
       "    .dataframe thead th {\n",
       "        text-align: right;\n",
       "    }\n",
       "</style>\n",
       "<table border=\"1\" class=\"dataframe\">\n",
       "  <thead>\n",
       "    <tr style=\"text-align: right;\">\n",
       "      <th></th>\n",
       "      <th>Cereal Name</th>\n",
       "      <th>Manufacturer</th>\n",
       "      <th>Calories</th>\n",
       "      <th>Protein (g)</th>\n",
       "      <th>Fat</th>\n",
       "      <th>Sugars</th>\n",
       "      <th>Vitamins and Minerals</th>\n",
       "    </tr>\n",
       "  </thead>\n",
       "  <tbody>\n",
       "    <tr>\n",
       "      <th>0</th>\n",
       "      <td>100%_Bran</td>\n",
       "      <td>Nabisco</td>\n",
       "      <td>70</td>\n",
       "      <td>4</td>\n",
       "      <td>1</td>\n",
       "      <td>6</td>\n",
       "      <td>25</td>\n",
       "    </tr>\n",
       "    <tr>\n",
       "      <th>1</th>\n",
       "      <td>100%_Natural_Bran</td>\n",
       "      <td>Quaker Oats</td>\n",
       "      <td>120</td>\n",
       "      <td>3</td>\n",
       "      <td>5</td>\n",
       "      <td>8</td>\n",
       "      <td>0</td>\n",
       "    </tr>\n",
       "    <tr>\n",
       "      <th>2</th>\n",
       "      <td>All-Bran</td>\n",
       "      <td>Kelloggs</td>\n",
       "      <td>70</td>\n",
       "      <td>4</td>\n",
       "      <td>1</td>\n",
       "      <td>5</td>\n",
       "      <td>25</td>\n",
       "    </tr>\n",
       "    <tr>\n",
       "      <th>3</th>\n",
       "      <td>All-Bran_with_Extra_Fiber</td>\n",
       "      <td>Kelloggs</td>\n",
       "      <td>50</td>\n",
       "      <td>4</td>\n",
       "      <td>0</td>\n",
       "      <td>0</td>\n",
       "      <td>25</td>\n",
       "    </tr>\n",
       "    <tr>\n",
       "      <th>4</th>\n",
       "      <td>Almond_Delight</td>\n",
       "      <td>Ralston Purina</td>\n",
       "      <td>110</td>\n",
       "      <td>2</td>\n",
       "      <td>2</td>\n",
       "      <td>8</td>\n",
       "      <td>25</td>\n",
       "    </tr>\n",
       "  </tbody>\n",
       "</table>\n",
       "</div>"
      ],
      "text/plain": [
       "                 Cereal Name    Manufacturer  Calories  Protein (g)  Fat  \\\n",
       "0                  100%_Bran         Nabisco        70            4    1   \n",
       "1          100%_Natural_Bran     Quaker Oats       120            3    5   \n",
       "2                   All-Bran        Kelloggs        70            4    1   \n",
       "3  All-Bran_with_Extra_Fiber        Kelloggs        50            4    0   \n",
       "4             Almond_Delight  Ralston Purina       110            2    2   \n",
       "\n",
       "   Sugars  Vitamins and Minerals  \n",
       "0       6                     25  \n",
       "1       8                      0  \n",
       "2       5                     25  \n",
       "3       0                     25  \n",
       "4       8                     25  "
      ]
     },
     "execution_count": 1,
     "metadata": {},
     "output_type": "execute_result"
    }
   ],
   "source": [
    "# 1. Read in the cereal.csv file\n",
    "import pandas as pd\n",
    "\n",
    "df = pd.read_csv('./data/cereal.csv')\n",
    "df.head()"
   ]
  },
  {
   "cell_type": "code",
   "execution_count": 2,
   "id": "6e1fe5d8",
   "metadata": {},
   "outputs": [
    {
     "data": {
      "text/html": [
       "<div>\n",
       "<style scoped>\n",
       "    .dataframe tbody tr th:only-of-type {\n",
       "        vertical-align: middle;\n",
       "    }\n",
       "\n",
       "    .dataframe tbody tr th {\n",
       "        vertical-align: top;\n",
       "    }\n",
       "\n",
       "    .dataframe thead th {\n",
       "        text-align: right;\n",
       "    }\n",
       "</style>\n",
       "<table border=\"1\" class=\"dataframe\">\n",
       "  <thead>\n",
       "    <tr style=\"text-align: right;\">\n",
       "      <th></th>\n",
       "      <th>Calories</th>\n",
       "      <th>Protein (g)</th>\n",
       "      <th>Fat</th>\n",
       "      <th>Sugars</th>\n",
       "      <th>Vitamins and Minerals</th>\n",
       "    </tr>\n",
       "  </thead>\n",
       "  <tbody>\n",
       "    <tr>\n",
       "      <th>0</th>\n",
       "      <td>70</td>\n",
       "      <td>4</td>\n",
       "      <td>1</td>\n",
       "      <td>6</td>\n",
       "      <td>25</td>\n",
       "    </tr>\n",
       "    <tr>\n",
       "      <th>1</th>\n",
       "      <td>120</td>\n",
       "      <td>3</td>\n",
       "      <td>5</td>\n",
       "      <td>8</td>\n",
       "      <td>0</td>\n",
       "    </tr>\n",
       "    <tr>\n",
       "      <th>2</th>\n",
       "      <td>70</td>\n",
       "      <td>4</td>\n",
       "      <td>1</td>\n",
       "      <td>5</td>\n",
       "      <td>25</td>\n",
       "    </tr>\n",
       "    <tr>\n",
       "      <th>3</th>\n",
       "      <td>50</td>\n",
       "      <td>4</td>\n",
       "      <td>0</td>\n",
       "      <td>0</td>\n",
       "      <td>25</td>\n",
       "    </tr>\n",
       "    <tr>\n",
       "      <th>4</th>\n",
       "      <td>110</td>\n",
       "      <td>2</td>\n",
       "      <td>2</td>\n",
       "      <td>8</td>\n",
       "      <td>25</td>\n",
       "    </tr>\n",
       "  </tbody>\n",
       "</table>\n",
       "</div>"
      ],
      "text/plain": [
       "   Calories  Protein (g)  Fat  Sugars  Vitamins and Minerals\n",
       "0        70            4    1       6                     25\n",
       "1       120            3    5       8                      0\n",
       "2        70            4    1       5                     25\n",
       "3        50            4    0       0                     25\n",
       "4       110            2    2       8                     25"
      ]
     },
     "execution_count": 2,
     "metadata": {},
     "output_type": "execute_result"
    }
   ],
   "source": [
    "# 2. Prep the data by dropping the name and manufacturer columns: aka only keep the numeric columns\n",
    "data = df.select_dtypes(exclude=['object'])\n",
    "data.head()"
   ]
  },
  {
   "cell_type": "code",
   "execution_count": 3,
   "id": "57950e11",
   "metadata": {},
   "outputs": [
    {
     "data": {
      "text/html": [
       "<style>#sk-container-id-1 {color: black;}#sk-container-id-1 pre{padding: 0;}#sk-container-id-1 div.sk-toggleable {background-color: white;}#sk-container-id-1 label.sk-toggleable__label {cursor: pointer;display: block;width: 100%;margin-bottom: 0;padding: 0.3em;box-sizing: border-box;text-align: center;}#sk-container-id-1 label.sk-toggleable__label-arrow:before {content: \"▸\";float: left;margin-right: 0.25em;color: #696969;}#sk-container-id-1 label.sk-toggleable__label-arrow:hover:before {color: black;}#sk-container-id-1 div.sk-estimator:hover label.sk-toggleable__label-arrow:before {color: black;}#sk-container-id-1 div.sk-toggleable__content {max-height: 0;max-width: 0;overflow: hidden;text-align: left;background-color: #f0f8ff;}#sk-container-id-1 div.sk-toggleable__content pre {margin: 0.2em;color: black;border-radius: 0.25em;background-color: #f0f8ff;}#sk-container-id-1 input.sk-toggleable__control:checked~div.sk-toggleable__content {max-height: 200px;max-width: 100%;overflow: auto;}#sk-container-id-1 input.sk-toggleable__control:checked~label.sk-toggleable__label-arrow:before {content: \"▾\";}#sk-container-id-1 div.sk-estimator input.sk-toggleable__control:checked~label.sk-toggleable__label {background-color: #d4ebff;}#sk-container-id-1 div.sk-label input.sk-toggleable__control:checked~label.sk-toggleable__label {background-color: #d4ebff;}#sk-container-id-1 input.sk-hidden--visually {border: 0;clip: rect(1px 1px 1px 1px);clip: rect(1px, 1px, 1px, 1px);height: 1px;margin: -1px;overflow: hidden;padding: 0;position: absolute;width: 1px;}#sk-container-id-1 div.sk-estimator {font-family: monospace;background-color: #f0f8ff;border: 1px dotted black;border-radius: 0.25em;box-sizing: border-box;margin-bottom: 0.5em;}#sk-container-id-1 div.sk-estimator:hover {background-color: #d4ebff;}#sk-container-id-1 div.sk-parallel-item::after {content: \"\";width: 100%;border-bottom: 1px solid gray;flex-grow: 1;}#sk-container-id-1 div.sk-label:hover label.sk-toggleable__label {background-color: #d4ebff;}#sk-container-id-1 div.sk-serial::before {content: \"\";position: absolute;border-left: 1px solid gray;box-sizing: border-box;top: 0;bottom: 0;left: 50%;z-index: 0;}#sk-container-id-1 div.sk-serial {display: flex;flex-direction: column;align-items: center;background-color: white;padding-right: 0.2em;padding-left: 0.2em;position: relative;}#sk-container-id-1 div.sk-item {position: relative;z-index: 1;}#sk-container-id-1 div.sk-parallel {display: flex;align-items: stretch;justify-content: center;background-color: white;position: relative;}#sk-container-id-1 div.sk-item::before, #sk-container-id-1 div.sk-parallel-item::before {content: \"\";position: absolute;border-left: 1px solid gray;box-sizing: border-box;top: 0;bottom: 0;left: 50%;z-index: -1;}#sk-container-id-1 div.sk-parallel-item {display: flex;flex-direction: column;z-index: 1;position: relative;background-color: white;}#sk-container-id-1 div.sk-parallel-item:first-child::after {align-self: flex-end;width: 50%;}#sk-container-id-1 div.sk-parallel-item:last-child::after {align-self: flex-start;width: 50%;}#sk-container-id-1 div.sk-parallel-item:only-child::after {width: 0;}#sk-container-id-1 div.sk-dashed-wrapped {border: 1px dashed gray;margin: 0 0.4em 0.5em 0.4em;box-sizing: border-box;padding-bottom: 0.4em;background-color: white;}#sk-container-id-1 div.sk-label label {font-family: monospace;font-weight: bold;display: inline-block;line-height: 1.2em;}#sk-container-id-1 div.sk-label-container {text-align: center;}#sk-container-id-1 div.sk-container {/* jupyter's `normalize.less` sets `[hidden] { display: none; }` but bootstrap.min.css set `[hidden] { display: none !important; }` so we also need the `!important` here to be able to override the default hidden behavior on the sphinx rendered scikit-learn.org. See: https://github.com/scikit-learn/scikit-learn/issues/21755 */display: inline-block !important;position: relative;}#sk-container-id-1 div.sk-text-repr-fallback {display: none;}</style><div id=\"sk-container-id-1\" class=\"sk-top-container\"><div class=\"sk-text-repr-fallback\"><pre>KMeans(n_clusters=2, n_init=&#x27;auto&#x27;)</pre><b>In a Jupyter environment, please rerun this cell to show the HTML representation or trust the notebook. <br />On GitHub, the HTML representation is unable to render, please try loading this page with nbviewer.org.</b></div><div class=\"sk-container\" hidden><div class=\"sk-item\"><div class=\"sk-estimator sk-toggleable\"><input class=\"sk-toggleable__control sk-hidden--visually\" id=\"sk-estimator-id-1\" type=\"checkbox\" checked><label for=\"sk-estimator-id-1\" class=\"sk-toggleable__label sk-toggleable__label-arrow\">KMeans</label><div class=\"sk-toggleable__content\"><pre>KMeans(n_clusters=2, n_init=&#x27;auto&#x27;)</pre></div></div></div></div></div>"
      ],
      "text/plain": [
       "KMeans(n_clusters=2, n_init='auto')"
      ]
     },
     "execution_count": 3,
     "metadata": {},
     "output_type": "execute_result"
    }
   ],
   "source": [
    "# 3. Fit a K-Means Clustering model with 2 clusters\n",
    "from sklearn.cluster import KMeans\n",
    "\n",
    "kmeans2 = KMeans(n_clusters=2, n_init='auto')\n",
    "kmeans2.fit(data)"
   ]
  },
  {
   "cell_type": "code",
   "execution_count": 4,
   "id": "c13f787c",
   "metadata": {},
   "outputs": [
    {
     "data": {
      "text/html": [
       "<div>\n",
       "<style scoped>\n",
       "    .dataframe tbody tr th:only-of-type {\n",
       "        vertical-align: middle;\n",
       "    }\n",
       "\n",
       "    .dataframe tbody tr th {\n",
       "        vertical-align: top;\n",
       "    }\n",
       "\n",
       "    .dataframe thead th {\n",
       "        text-align: right;\n",
       "    }\n",
       "</style>\n",
       "<table border=\"1\" class=\"dataframe\">\n",
       "  <thead>\n",
       "    <tr style=\"text-align: right;\">\n",
       "      <th></th>\n",
       "      <th>Calories</th>\n",
       "      <th>Protein (g)</th>\n",
       "      <th>Fat</th>\n",
       "      <th>Sugars</th>\n",
       "      <th>Vitamins and Minerals</th>\n",
       "    </tr>\n",
       "  </thead>\n",
       "  <tbody>\n",
       "    <tr>\n",
       "      <th>0</th>\n",
       "      <td>104.6</td>\n",
       "      <td>2.5</td>\n",
       "      <td>1.0</td>\n",
       "      <td>6.8</td>\n",
       "      <td>22.1</td>\n",
       "    </tr>\n",
       "    <tr>\n",
       "      <th>1</th>\n",
       "      <td>116.7</td>\n",
       "      <td>2.7</td>\n",
       "      <td>0.8</td>\n",
       "      <td>6.3</td>\n",
       "      <td>100.0</td>\n",
       "    </tr>\n",
       "  </tbody>\n",
       "</table>\n",
       "</div>"
      ],
      "text/plain": [
       "   Calories  Protein (g)  Fat  Sugars  Vitamins and Minerals\n",
       "0     104.6          2.5  1.0     6.8                   22.1\n",
       "1     116.7          2.7  0.8     6.3                  100.0"
      ]
     },
     "execution_count": 4,
     "metadata": {},
     "output_type": "execute_result"
    }
   ],
   "source": [
    "round(pd.DataFrame(kmeans2.cluster_centers_, columns=data.columns),1)"
   ]
  },
  {
   "cell_type": "code",
   "execution_count": 5,
   "id": "705351c3-af19-42f2-8471-6396f31315e2",
   "metadata": {},
   "outputs": [
    {
     "data": {
      "text/plain": [
       "<Axes: >"
      ]
     },
     "execution_count": 5,
     "metadata": {},
     "output_type": "execute_result"
    },
    {
     "data": {
      "image/png": "[encoded data removed]",
      "text/plain": [
       "<Figure size 640x480 with 2 Axes>"
      ]
     },
     "metadata": {},
     "output_type": "display_data"
    }
   ],
   "source": [
    "# 4. Interpret the cluster centers\n",
    "import seaborn as sns\n",
    "\n",
    "cluster_centers2 = pd.DataFrame(kmeans2.cluster_centers_, columns=data.columns)\n",
    "sns.heatmap(cluster_centers2, cmap='RdBu', annot=True)"
   ]
  },
  {
   "cell_type": "markdown",
   "id": "a84ce562",
   "metadata": {},
   "source": [
    "* Cluster 1: **Low in Vitamins and Minerals (Cereal for Kids)**\n",
    "* Cluster 2: **High in Calories, Vitamins and Minerals (Cereal for Adults)**"
   ]
  },
  {
   "cell_type": "markdown",
   "id": "94a0b015",
   "metadata": {},
   "source": [
    "## 2. Inertia Plot"
   ]
  },
  {
   "cell_type": "code",
   "execution_count": 6,
   "id": "12746d17",
   "metadata": {},
   "outputs": [
    {
     "name": "stderr",
     "output_type": "stream",
     "text": [
      "100%|██████████| 14/14 [00:00<00:00, 288.36it/s]\n"
     ]
    }
   ],
   "source": [
    "# 1. Write a loop to fit K-Means Clustering models with 2 to 15 clusters\n",
    "from tqdm import tqdm\n",
    "\n",
    "# create an empty list to hold many inertia values\n",
    "inertia_values = []\n",
    "\n",
    "# create 2 - 15 clusters, and add the intertia scores to the list\n",
    "for k in tqdm(range(2, 16)):\n",
    "    kmeans = KMeans(n_clusters=k, n_init='auto', random_state=42)\n",
    "    kmeans.fit(data)\n",
    "    inertia_values.append(kmeans.inertia_)"
   ]
  },
  {
   "cell_type": "code",
   "execution_count": 7,
   "id": "2bbe0211",
   "metadata": {},
   "outputs": [
    {
     "data": {
      "text/plain": [
       "Text(0.5, 1.0, 'Number of Clusters vs. Inertia')"
      ]
     },
     "execution_count": 7,
     "metadata": {},
     "output_type": "execute_result"
    },
    {
     "data": {
      "image/png": "[encoded data removed]",
      "text/plain": [
       "<Figure size 640x480 with 1 Axes>"
      ]
     },
     "metadata": {},
     "output_type": "display_data"
    }
   ],
   "source": [
    "# 2. Create a plot with the number of clusters on the x-axis and the inertia on the y-axis\n",
    "\n",
    "# plot the inertia values\n",
    "import matplotlib.pyplot as plt\n",
    "\n",
    "# turn the list into a series for plotting\n",
    "inertia_series = pd.Series(inertia_values, index=range(2, 16))\n",
    "\n",
    "# plot the data\n",
    "inertia_series.plot(marker='o')\n",
    "plt.xlabel(\"Number of Clusters (k)\")\n",
    "plt.ylabel(\"Inertia\")\n",
    "plt.title(\"Number of Clusters vs. Inertia\")"
   ]
  },
  {
   "cell_type": "code",
   "execution_count": 8,
   "id": "cd518d92",
   "metadata": {},
   "outputs": [
    {
     "data": {
      "text/html": [
       "<div>\n",
       "<style scoped>\n",
       "    .dataframe tbody tr th:only-of-type {\n",
       "        vertical-align: middle;\n",
       "    }\n",
       "\n",
       "    .dataframe tbody tr th {\n",
       "        vertical-align: top;\n",
       "    }\n",
       "\n",
       "    .dataframe thead th {\n",
       "        text-align: right;\n",
       "    }\n",
       "</style>\n",
       "<table border=\"1\" class=\"dataframe\">\n",
       "  <thead>\n",
       "    <tr style=\"text-align: right;\">\n",
       "      <th></th>\n",
       "      <th>Inertia</th>\n",
       "      <th>lag_1</th>\n",
       "      <th>Diff Factor</th>\n",
       "    </tr>\n",
       "  </thead>\n",
       "  <tbody>\n",
       "    <tr>\n",
       "      <th>2</th>\n",
       "      <td>30041.730392</td>\n",
       "      <td>17167.537634</td>\n",
       "      <td>1.7</td>\n",
       "    </tr>\n",
       "    <tr>\n",
       "      <th>3</th>\n",
       "      <td>17167.537634</td>\n",
       "      <td>12430.331667</td>\n",
       "      <td>1.4</td>\n",
       "    </tr>\n",
       "    <tr>\n",
       "      <th>4</th>\n",
       "      <td>12430.331667</td>\n",
       "      <td>9765.241667</td>\n",
       "      <td>1.3</td>\n",
       "    </tr>\n",
       "    <tr>\n",
       "      <th>5</th>\n",
       "      <td>9765.241667</td>\n",
       "      <td>7403.834046</td>\n",
       "      <td>1.3</td>\n",
       "    </tr>\n",
       "    <tr>\n",
       "      <th>6</th>\n",
       "      <td>7403.834046</td>\n",
       "      <td>5690.000712</td>\n",
       "      <td>1.3</td>\n",
       "    </tr>\n",
       "    <tr>\n",
       "      <th>7</th>\n",
       "      <td>5690.000712</td>\n",
       "      <td>3951.448148</td>\n",
       "      <td>1.4</td>\n",
       "    </tr>\n",
       "    <tr>\n",
       "      <th>8</th>\n",
       "      <td>3951.448148</td>\n",
       "      <td>3097.281481</td>\n",
       "      <td>1.3</td>\n",
       "    </tr>\n",
       "    <tr>\n",
       "      <th>9</th>\n",
       "      <td>3097.281481</td>\n",
       "      <td>2676.448148</td>\n",
       "      <td>1.2</td>\n",
       "    </tr>\n",
       "    <tr>\n",
       "      <th>10</th>\n",
       "      <td>2676.448148</td>\n",
       "      <td>2078.190572</td>\n",
       "      <td>1.3</td>\n",
       "    </tr>\n",
       "    <tr>\n",
       "      <th>11</th>\n",
       "      <td>2078.190572</td>\n",
       "      <td>1657.570053</td>\n",
       "      <td>1.3</td>\n",
       "    </tr>\n",
       "    <tr>\n",
       "      <th>12</th>\n",
       "      <td>1657.570053</td>\n",
       "      <td>1281.714510</td>\n",
       "      <td>1.3</td>\n",
       "    </tr>\n",
       "    <tr>\n",
       "      <th>13</th>\n",
       "      <td>1281.714510</td>\n",
       "      <td>1178.214510</td>\n",
       "      <td>1.1</td>\n",
       "    </tr>\n",
       "    <tr>\n",
       "      <th>14</th>\n",
       "      <td>1178.214510</td>\n",
       "      <td>779.263753</td>\n",
       "      <td>1.5</td>\n",
       "    </tr>\n",
       "    <tr>\n",
       "      <th>15</th>\n",
       "      <td>779.263753</td>\n",
       "      <td>NaN</td>\n",
       "      <td>NaN</td>\n",
       "    </tr>\n",
       "  </tbody>\n",
       "</table>\n",
       "</div>"
      ],
      "text/plain": [
       "         Inertia         lag_1  Diff Factor\n",
       "2   30041.730392  17167.537634          1.7\n",
       "3   17167.537634  12430.331667          1.4\n",
       "4   12430.331667   9765.241667          1.3\n",
       "5    9765.241667   7403.834046          1.3\n",
       "6    7403.834046   5690.000712          1.3\n",
       "7    5690.000712   3951.448148          1.4\n",
       "8    3951.448148   3097.281481          1.3\n",
       "9    3097.281481   2676.448148          1.2\n",
       "10   2676.448148   2078.190572          1.3\n",
       "11   2078.190572   1657.570053          1.3\n",
       "12   1657.570053   1281.714510          1.3\n",
       "13   1281.714510   1178.214510          1.1\n",
       "14   1178.214510    779.263753          1.5\n",
       "15    779.263753           NaN          NaN"
      ]
     },
     "execution_count": 8,
     "metadata": {},
     "output_type": "execute_result"
    }
   ],
   "source": [
    "a = pd.DataFrame(inertia_values, index=range(2, 16), columns=[\"Inertia\"])\n",
    "a[\"lag_1\"] = a[\"Inertia\"].shift(-1)\n",
    "a[\"Diff Factor\"] = round(a[\"Inertia\"] / a[\"lag_1\"],1)\n",
    "a"
   ]
  },
  {
   "cell_type": "code",
   "execution_count": 9,
   "id": "c1cefa4a-5fb6-40e0-9e54-2e1d5c66b502",
   "metadata": {},
   "outputs": [],
   "source": [
    "# 3. Identify the elbow of the plot\n",
    "## Identify the elbow of the plot: biggest drop seems to be at 3 clusters"
   ]
  },
  {
   "cell_type": "code",
   "execution_count": 10,
   "id": "1879eef3",
   "metadata": {},
   "outputs": [
    {
     "data": {
      "text/html": [
       "<style>#sk-container-id-2 {color: black;}#sk-container-id-2 pre{padding: 0;}#sk-container-id-2 div.sk-toggleable {background-color: white;}#sk-container-id-2 label.sk-toggleable__label {cursor: pointer;display: block;width: 100%;margin-bottom: 0;padding: 0.3em;box-sizing: border-box;text-align: center;}#sk-container-id-2 label.sk-toggleable__label-arrow:before {content: \"▸\";float: left;margin-right: 0.25em;color: #696969;}#sk-container-id-2 label.sk-toggleable__label-arrow:hover:before {color: black;}#sk-container-id-2 div.sk-estimator:hover label.sk-toggleable__label-arrow:before {color: black;}#sk-container-id-2 div.sk-toggleable__content {max-height: 0;max-width: 0;overflow: hidden;text-align: left;background-color: #f0f8ff;}#sk-container-id-2 div.sk-toggleable__content pre {margin: 0.2em;color: black;border-radius: 0.25em;background-color: #f0f8ff;}#sk-container-id-2 input.sk-toggleable__control:checked~div.sk-toggleable__content {max-height: 200px;max-width: 100%;overflow: auto;}#sk-container-id-2 input.sk-toggleable__control:checked~label.sk-toggleable__label-arrow:before {content: \"▾\";}#sk-container-id-2 div.sk-estimator input.sk-toggleable__control:checked~label.sk-toggleable__label {background-color: #d4ebff;}#sk-container-id-2 div.sk-label input.sk-toggleable__control:checked~label.sk-toggleable__label {background-color: #d4ebff;}#sk-container-id-2 input.sk-hidden--visually {border: 0;clip: rect(1px 1px 1px 1px);clip: rect(1px, 1px, 1px, 1px);height: 1px;margin: -1px;overflow: hidden;padding: 0;position: absolute;width: 1px;}#sk-container-id-2 div.sk-estimator {font-family: monospace;background-color: #f0f8ff;border: 1px dotted black;border-radius: 0.25em;box-sizing: border-box;margin-bottom: 0.5em;}#sk-container-id-2 div.sk-estimator:hover {background-color: #d4ebff;}#sk-container-id-2 div.sk-parallel-item::after {content: \"\";width: 100%;border-bottom: 1px solid gray;flex-grow: 1;}#sk-container-id-2 div.sk-label:hover label.sk-toggleable__label {background-color: #d4ebff;}#sk-container-id-2 div.sk-serial::before {content: \"\";position: absolute;border-left: 1px solid gray;box-sizing: border-box;top: 0;bottom: 0;left: 50%;z-index: 0;}#sk-container-id-2 div.sk-serial {display: flex;flex-direction: column;align-items: center;background-color: white;padding-right: 0.2em;padding-left: 0.2em;position: relative;}#sk-container-id-2 div.sk-item {position: relative;z-index: 1;}#sk-container-id-2 div.sk-parallel {display: flex;align-items: stretch;justify-content: center;background-color: white;position: relative;}#sk-container-id-2 div.sk-item::before, #sk-container-id-2 div.sk-parallel-item::before {content: \"\";position: absolute;border-left: 1px solid gray;box-sizing: border-box;top: 0;bottom: 0;left: 50%;z-index: -1;}#sk-container-id-2 div.sk-parallel-item {display: flex;flex-direction: column;z-index: 1;position: relative;background-color: white;}#sk-container-id-2 div.sk-parallel-item:first-child::after {align-self: flex-end;width: 50%;}#sk-container-id-2 div.sk-parallel-item:last-child::after {align-self: flex-start;width: 50%;}#sk-container-id-2 div.sk-parallel-item:only-child::after {width: 0;}#sk-container-id-2 div.sk-dashed-wrapped {border: 1px dashed gray;margin: 0 0.4em 0.5em 0.4em;box-sizing: border-box;padding-bottom: 0.4em;background-color: white;}#sk-container-id-2 div.sk-label label {font-family: monospace;font-weight: bold;display: inline-block;line-height: 1.2em;}#sk-container-id-2 div.sk-label-container {text-align: center;}#sk-container-id-2 div.sk-container {/* jupyter's `normalize.less` sets `[hidden] { display: none; }` but bootstrap.min.css set `[hidden] { display: none !important; }` so we also need the `!important` here to be able to override the default hidden behavior on the sphinx rendered scikit-learn.org. See: https://github.com/scikit-learn/scikit-learn/issues/21755 */display: inline-block !important;position: relative;}#sk-container-id-2 div.sk-text-repr-fallback {display: none;}</style><div id=\"sk-container-id-2\" class=\"sk-top-container\"><div class=\"sk-text-repr-fallback\"><pre>KMeans(n_clusters=3, n_init=&#x27;auto&#x27;, random_state=456)</pre><b>In a Jupyter environment, please rerun this cell to show the HTML representation or trust the notebook. <br />On GitHub, the HTML representation is unable to render, please try loading this page with nbviewer.org.</b></div><div class=\"sk-container\" hidden><div class=\"sk-item\"><div class=\"sk-estimator sk-toggleable\"><input class=\"sk-toggleable__control sk-hidden--visually\" id=\"sk-estimator-id-2\" type=\"checkbox\" checked><label for=\"sk-estimator-id-2\" class=\"sk-toggleable__label sk-toggleable__label-arrow\">KMeans</label><div class=\"sk-toggleable__content\"><pre>KMeans(n_clusters=3, n_init=&#x27;auto&#x27;, random_state=456)</pre></div></div></div></div></div>"
      ],
      "text/plain": [
       "KMeans(n_clusters=3, n_init='auto', random_state=456)"
      ]
     },
     "execution_count": 10,
     "metadata": {},
     "output_type": "execute_result"
    }
   ],
   "source": [
    "# 4. Fit a K-Means Clustering model on the specific number of clusters at the elbow\n",
    "from sklearn.cluster import KMeans\n",
    "\n",
    "kmeans3 = KMeans(n_clusters=3, n_init='auto', random_state=456)\n",
    "kmeans3.fit(data)"
   ]
  },
  {
   "cell_type": "code",
   "execution_count": 11,
   "id": "55dd42f3",
   "metadata": {},
   "outputs": [
    {
     "data": {
      "image/png": "[encoded data removed]",
      "text/plain": [
       "<Figure size 640x480 with 2 Axes>"
      ]
     },
     "metadata": {},
     "output_type": "display_data"
    }
   ],
   "source": [
    "# 5. Interpret the cluster centers using a heat map\n",
    "import seaborn as sns\n",
    "\n",
    "cluster_centers3 = pd.DataFrame(kmeans3.cluster_centers_, columns=data.columns)\n",
    "sns.heatmap(cluster_centers3, cmap='RdBu', annot=True);"
   ]
  },
  {
   "cell_type": "markdown",
   "id": "4c252b95",
   "metadata": {},
   "source": [
    "* Cluster 0: **In the Middle (Typical Cereals)**\n",
    "* Cluster 1: **High in Calories & Vitamins and Minerals (Hearty Cereals)**\n",
    "* Cluster 2: **Average/Low in Calories & Vitamins and Minerals (Empty Cereals)**"
   ]
  },
  {
   "cell_type": "markdown",
   "id": "3d78227d",
   "metadata": {},
   "source": [
    "## 3. Tune the K-Means Model"
   ]
  },
  {
   "cell_type": "code",
   "execution_count": 12,
   "id": "8e141b53",
   "metadata": {},
   "outputs": [
    {
     "data": {
      "text/html": [
       "<div>\n",
       "<style scoped>\n",
       "    .dataframe tbody tr th:only-of-type {\n",
       "        vertical-align: middle;\n",
       "    }\n",
       "\n",
       "    .dataframe tbody tr th {\n",
       "        vertical-align: top;\n",
       "    }\n",
       "\n",
       "    .dataframe thead th {\n",
       "        text-align: right;\n",
       "    }\n",
       "</style>\n",
       "<table border=\"1\" class=\"dataframe\">\n",
       "  <thead>\n",
       "    <tr style=\"text-align: right;\">\n",
       "      <th></th>\n",
       "      <th>Calories</th>\n",
       "      <th>Protein (g)</th>\n",
       "      <th>Sugars</th>\n",
       "      <th>Vitamins and Minerals</th>\n",
       "    </tr>\n",
       "  </thead>\n",
       "  <tbody>\n",
       "    <tr>\n",
       "      <th>0</th>\n",
       "      <td>70</td>\n",
       "      <td>4</td>\n",
       "      <td>6</td>\n",
       "      <td>25</td>\n",
       "    </tr>\n",
       "    <tr>\n",
       "      <th>1</th>\n",
       "      <td>120</td>\n",
       "      <td>3</td>\n",
       "      <td>8</td>\n",
       "      <td>0</td>\n",
       "    </tr>\n",
       "    <tr>\n",
       "      <th>2</th>\n",
       "      <td>70</td>\n",
       "      <td>4</td>\n",
       "      <td>5</td>\n",
       "      <td>25</td>\n",
       "    </tr>\n",
       "    <tr>\n",
       "      <th>3</th>\n",
       "      <td>50</td>\n",
       "      <td>4</td>\n",
       "      <td>0</td>\n",
       "      <td>25</td>\n",
       "    </tr>\n",
       "    <tr>\n",
       "      <th>4</th>\n",
       "      <td>110</td>\n",
       "      <td>2</td>\n",
       "      <td>8</td>\n",
       "      <td>25</td>\n",
       "    </tr>\n",
       "  </tbody>\n",
       "</table>\n",
       "</div>"
      ],
      "text/plain": [
       "   Calories  Protein (g)  Sugars  Vitamins and Minerals\n",
       "0        70            4       6                     25\n",
       "1       120            3       8                      0\n",
       "2        70            4       5                     25\n",
       "3        50            4       0                     25\n",
       "4       110            2       8                     25"
      ]
     },
     "execution_count": 12,
     "metadata": {},
     "output_type": "execute_result"
    }
   ],
   "source": [
    "# 1. Remove the ”Fat” column\n",
    "data_subset = data[['Calories', 'Protein (g)', 'Sugars', 'Vitamins and Minerals']]\n",
    "data_subset.head()"
   ]
  },
  {
   "cell_type": "code",
   "execution_count": 13,
   "id": "6cb53735",
   "metadata": {},
   "outputs": [
    {
     "data": {
      "text/html": [
       "<div>\n",
       "<style scoped>\n",
       "    .dataframe tbody tr th:only-of-type {\n",
       "        vertical-align: middle;\n",
       "    }\n",
       "\n",
       "    .dataframe tbody tr th {\n",
       "        vertical-align: top;\n",
       "    }\n",
       "\n",
       "    .dataframe thead th {\n",
       "        text-align: right;\n",
       "    }\n",
       "</style>\n",
       "<table border=\"1\" class=\"dataframe\">\n",
       "  <thead>\n",
       "    <tr style=\"text-align: right;\">\n",
       "      <th></th>\n",
       "      <th>Calories</th>\n",
       "      <th>Protein (g)</th>\n",
       "      <th>Sugars</th>\n",
       "      <th>Vitamins and Minerals</th>\n",
       "    </tr>\n",
       "  </thead>\n",
       "  <tbody>\n",
       "    <tr>\n",
       "      <th>0</th>\n",
       "      <td>-1.940286</td>\n",
       "      <td>1.387392</td>\n",
       "      <td>-0.173586</td>\n",
       "      <td>-0.149270</td>\n",
       "    </tr>\n",
       "    <tr>\n",
       "      <th>1</th>\n",
       "      <td>0.789394</td>\n",
       "      <td>0.462464</td>\n",
       "      <td>0.277129</td>\n",
       "      <td>-1.253871</td>\n",
       "    </tr>\n",
       "    <tr>\n",
       "      <th>2</th>\n",
       "      <td>-1.940286</td>\n",
       "      <td>1.387392</td>\n",
       "      <td>-0.398944</td>\n",
       "      <td>-0.149270</td>\n",
       "    </tr>\n",
       "    <tr>\n",
       "      <th>3</th>\n",
       "      <td>-3.032158</td>\n",
       "      <td>1.387392</td>\n",
       "      <td>-1.525731</td>\n",
       "      <td>-0.149270</td>\n",
       "    </tr>\n",
       "    <tr>\n",
       "      <th>4</th>\n",
       "      <td>0.243458</td>\n",
       "      <td>-0.462464</td>\n",
       "      <td>0.277129</td>\n",
       "      <td>-0.149270</td>\n",
       "    </tr>\n",
       "  </tbody>\n",
       "</table>\n",
       "</div>"
      ],
      "text/plain": [
       "   Calories  Protein (g)    Sugars  Vitamins and Minerals\n",
       "0 -1.940286     1.387392 -0.173586              -0.149270\n",
       "1  0.789394     0.462464  0.277129              -1.253871\n",
       "2 -1.940286     1.387392 -0.398944              -0.149270\n",
       "3 -3.032158     1.387392 -1.525731              -0.149270\n",
       "4  0.243458    -0.462464  0.277129              -0.149270"
      ]
     },
     "execution_count": 13,
     "metadata": {},
     "output_type": "execute_result"
    }
   ],
   "source": [
    "# 2. Standardize the remaining columns\n",
    "from sklearn.preprocessing import StandardScaler\n",
    "\n",
    "scaler = StandardScaler()\n",
    "scaler_ft = scaler.fit_transform(data_subset)\n",
    "data_scaled = pd.DataFrame(scaler_ft, columns=data_subset.columns)\n",
    "data_scaled.head()"
   ]
  },
  {
   "cell_type": "code",
   "execution_count": 14,
   "id": "20a4021e",
   "metadata": {},
   "outputs": [],
   "source": [
    "# 3a. Write a loop to fit K-Means Clustering models with 2 to 15 clusters\n",
    "inertia_values_scaled = []\n",
    "\n",
    "for k in range(2, 16):\n",
    "    kmeans = KMeans(n_clusters=k, n_init='auto', random_state=42)\n",
    "    kmeans.fit(data_scaled)\n",
    "    inertia_values_scaled.append(kmeans.inertia_)"
   ]
  },
  {
   "cell_type": "code",
   "execution_count": 15,
   "id": "2609a892",
   "metadata": {},
   "outputs": [
    {
     "data": {
      "image/png": "[encoded data removed]",
      "text/plain": [
       "<Figure size 640x480 with 1 Axes>"
      ]
     },
     "metadata": {},
     "output_type": "display_data"
    }
   ],
   "source": [
    "# 3b. Create a plot with the number of clusters on the x-axis and the inertia on the y-axis\n",
    "\n",
    "# plot the inertia values\n",
    "import matplotlib.pyplot as plt\n",
    "\n",
    "# turn the list into a series for plotting\n",
    "inertia_series_scaled = pd.Series(inertia_values_scaled, index=range(2, 16))\n",
    "\n",
    "# plot the data\n",
    "inertia_series_scaled.plot(marker='o')\n",
    "plt.xlabel(\"Number of Clusters (k)\")\n",
    "plt.ylabel(\"Inertia\")\n",
    "plt.title(\"Number of Clusters vs. Inertia\");"
   ]
  },
  {
   "cell_type": "code",
   "execution_count": 17,
   "id": "5e7f98b5",
   "metadata": {},
   "outputs": [
    {
     "data": {
      "text/html": [
       "<div>\n",
       "<style scoped>\n",
       "    .dataframe tbody tr th:only-of-type {\n",
       "        vertical-align: middle;\n",
       "    }\n",
       "\n",
       "    .dataframe tbody tr th {\n",
       "        vertical-align: top;\n",
       "    }\n",
       "\n",
       "    .dataframe thead th {\n",
       "        text-align: right;\n",
       "    }\n",
       "</style>\n",
       "<table border=\"1\" class=\"dataframe\">\n",
       "  <thead>\n",
       "    <tr style=\"text-align: right;\">\n",
       "      <th></th>\n",
       "      <th>Inertia</th>\n",
       "      <th>lag_1</th>\n",
       "      <th>Diff Factor</th>\n",
       "    </tr>\n",
       "  </thead>\n",
       "  <tbody>\n",
       "    <tr>\n",
       "      <th>2</th>\n",
       "      <td>204.646486</td>\n",
       "      <td>170.493580</td>\n",
       "      <td>34.2</td>\n",
       "    </tr>\n",
       "    <tr>\n",
       "      <th>3</th>\n",
       "      <td>170.493580</td>\n",
       "      <td>116.632186</td>\n",
       "      <td>53.9</td>\n",
       "    </tr>\n",
       "    <tr>\n",
       "      <th>4</th>\n",
       "      <td>116.632186</td>\n",
       "      <td>94.963165</td>\n",
       "      <td>21.7</td>\n",
       "    </tr>\n",
       "    <tr>\n",
       "      <th>5</th>\n",
       "      <td>94.963165</td>\n",
       "      <td>74.710329</td>\n",
       "      <td>20.3</td>\n",
       "    </tr>\n",
       "    <tr>\n",
       "      <th>6</th>\n",
       "      <td>74.710329</td>\n",
       "      <td>65.489968</td>\n",
       "      <td>9.2</td>\n",
       "    </tr>\n",
       "    <tr>\n",
       "      <th>7</th>\n",
       "      <td>65.489968</td>\n",
       "      <td>60.193100</td>\n",
       "      <td>5.3</td>\n",
       "    </tr>\n",
       "    <tr>\n",
       "      <th>8</th>\n",
       "      <td>60.193100</td>\n",
       "      <td>51.072112</td>\n",
       "      <td>9.1</td>\n",
       "    </tr>\n",
       "    <tr>\n",
       "      <th>9</th>\n",
       "      <td>51.072112</td>\n",
       "      <td>41.851751</td>\n",
       "      <td>9.2</td>\n",
       "    </tr>\n",
       "    <tr>\n",
       "      <th>10</th>\n",
       "      <td>41.851751</td>\n",
       "      <td>33.907917</td>\n",
       "      <td>7.9</td>\n",
       "    </tr>\n",
       "    <tr>\n",
       "      <th>11</th>\n",
       "      <td>33.907917</td>\n",
       "      <td>30.832277</td>\n",
       "      <td>3.1</td>\n",
       "    </tr>\n",
       "    <tr>\n",
       "      <th>12</th>\n",
       "      <td>30.832277</td>\n",
       "      <td>27.177882</td>\n",
       "      <td>3.7</td>\n",
       "    </tr>\n",
       "    <tr>\n",
       "      <th>13</th>\n",
       "      <td>27.177882</td>\n",
       "      <td>25.001300</td>\n",
       "      <td>2.2</td>\n",
       "    </tr>\n",
       "    <tr>\n",
       "      <th>14</th>\n",
       "      <td>25.001300</td>\n",
       "      <td>22.046222</td>\n",
       "      <td>3.0</td>\n",
       "    </tr>\n",
       "    <tr>\n",
       "      <th>15</th>\n",
       "      <td>22.046222</td>\n",
       "      <td>NaN</td>\n",
       "      <td>NaN</td>\n",
       "    </tr>\n",
       "  </tbody>\n",
       "</table>\n",
       "</div>"
      ],
      "text/plain": [
       "       Inertia       lag_1  Diff Factor\n",
       "2   204.646486  170.493580         34.2\n",
       "3   170.493580  116.632186         53.9\n",
       "4   116.632186   94.963165         21.7\n",
       "5    94.963165   74.710329         20.3\n",
       "6    74.710329   65.489968          9.2\n",
       "7    65.489968   60.193100          5.3\n",
       "8    60.193100   51.072112          9.1\n",
       "9    51.072112   41.851751          9.2\n",
       "10   41.851751   33.907917          7.9\n",
       "11   33.907917   30.832277          3.1\n",
       "12   30.832277   27.177882          3.7\n",
       "13   27.177882   25.001300          2.2\n",
       "14   25.001300   22.046222          3.0\n",
       "15   22.046222         NaN          NaN"
      ]
     },
     "execution_count": 17,
     "metadata": {},
     "output_type": "execute_result"
    }
   ],
   "source": [
    "a = pd.DataFrame(inertia_series_scaled, index=range(2, 16), columns=[\"Inertia\"])\n",
    "a[\"lag_1\"] = a[\"Inertia\"].shift(-1)\n",
    "a[\"Diff Factor\"] = round(a[\"Inertia\"] - a[\"lag_1\"],1)\n",
    "a"
   ]
  },
  {
   "cell_type": "code",
   "execution_count": 18,
   "id": "a1702a77-fe10-4752-9784-5e7d4c89f21c",
   "metadata": {},
   "outputs": [],
   "source": [
    "# 3c. Identify the elbow of the plot: let's look at 6 clusters\n"
   ]
  },
  {
   "cell_type": "code",
   "execution_count": 19,
   "id": "5f8dd324",
   "metadata": {},
   "outputs": [
    {
     "data": {
      "text/html": [
       "<style>#sk-container-id-3 {color: black;}#sk-container-id-3 pre{padding: 0;}#sk-container-id-3 div.sk-toggleable {background-color: white;}#sk-container-id-3 label.sk-toggleable__label {cursor: pointer;display: block;width: 100%;margin-bottom: 0;padding: 0.3em;box-sizing: border-box;text-align: center;}#sk-container-id-3 label.sk-toggleable__label-arrow:before {content: \"▸\";float: left;margin-right: 0.25em;color: #696969;}#sk-container-id-3 label.sk-toggleable__label-arrow:hover:before {color: black;}#sk-container-id-3 div.sk-estimator:hover label.sk-toggleable__label-arrow:before {color: black;}#sk-container-id-3 div.sk-toggleable__content {max-height: 0;max-width: 0;overflow: hidden;text-align: left;background-color: #f0f8ff;}#sk-container-id-3 div.sk-toggleable__content pre {margin: 0.2em;color: black;border-radius: 0.25em;background-color: #f0f8ff;}#sk-container-id-3 input.sk-toggleable__control:checked~div.sk-toggleable__content {max-height: 200px;max-width: 100%;overflow: auto;}#sk-container-id-3 input.sk-toggleable__control:checked~label.sk-toggleable__label-arrow:before {content: \"▾\";}#sk-container-id-3 div.sk-estimator input.sk-toggleable__control:checked~label.sk-toggleable__label {background-color: #d4ebff;}#sk-container-id-3 div.sk-label input.sk-toggleable__control:checked~label.sk-toggleable__label {background-color: #d4ebff;}#sk-container-id-3 input.sk-hidden--visually {border: 0;clip: rect(1px 1px 1px 1px);clip: rect(1px, 1px, 1px, 1px);height: 1px;margin: -1px;overflow: hidden;padding: 0;position: absolute;width: 1px;}#sk-container-id-3 div.sk-estimator {font-family: monospace;background-color: #f0f8ff;border: 1px dotted black;border-radius: 0.25em;box-sizing: border-box;margin-bottom: 0.5em;}#sk-container-id-3 div.sk-estimator:hover {background-color: #d4ebff;}#sk-container-id-3 div.sk-parallel-item::after {content: \"\";width: 100%;border-bottom: 1px solid gray;flex-grow: 1;}#sk-container-id-3 div.sk-label:hover label.sk-toggleable__label {background-color: #d4ebff;}#sk-container-id-3 div.sk-serial::before {content: \"\";position: absolute;border-left: 1px solid gray;box-sizing: border-box;top: 0;bottom: 0;left: 50%;z-index: 0;}#sk-container-id-3 div.sk-serial {display: flex;flex-direction: column;align-items: center;background-color: white;padding-right: 0.2em;padding-left: 0.2em;position: relative;}#sk-container-id-3 div.sk-item {position: relative;z-index: 1;}#sk-container-id-3 div.sk-parallel {display: flex;align-items: stretch;justify-content: center;background-color: white;position: relative;}#sk-container-id-3 div.sk-item::before, #sk-container-id-3 div.sk-parallel-item::before {content: \"\";position: absolute;border-left: 1px solid gray;box-sizing: border-box;top: 0;bottom: 0;left: 50%;z-index: -1;}#sk-container-id-3 div.sk-parallel-item {display: flex;flex-direction: column;z-index: 1;position: relative;background-color: white;}#sk-container-id-3 div.sk-parallel-item:first-child::after {align-self: flex-end;width: 50%;}#sk-container-id-3 div.sk-parallel-item:last-child::after {align-self: flex-start;width: 50%;}#sk-container-id-3 div.sk-parallel-item:only-child::after {width: 0;}#sk-container-id-3 div.sk-dashed-wrapped {border: 1px dashed gray;margin: 0 0.4em 0.5em 0.4em;box-sizing: border-box;padding-bottom: 0.4em;background-color: white;}#sk-container-id-3 div.sk-label label {font-family: monospace;font-weight: bold;display: inline-block;line-height: 1.2em;}#sk-container-id-3 div.sk-label-container {text-align: center;}#sk-container-id-3 div.sk-container {/* jupyter's `normalize.less` sets `[hidden] { display: none; }` but bootstrap.min.css set `[hidden] { display: none !important; }` so we also need the `!important` here to be able to override the default hidden behavior on the sphinx rendered scikit-learn.org. See: https://github.com/scikit-learn/scikit-learn/issues/21755 */display: inline-block !important;position: relative;}#sk-container-id-3 div.sk-text-repr-fallback {display: none;}</style><div id=\"sk-container-id-3\" class=\"sk-top-container\"><div class=\"sk-text-repr-fallback\"><pre>KMeans(n_clusters=6, n_init=&#x27;auto&#x27;, random_state=42)</pre><b>In a Jupyter environment, please rerun this cell to show the HTML representation or trust the notebook. <br />On GitHub, the HTML representation is unable to render, please try loading this page with nbviewer.org.</b></div><div class=\"sk-container\" hidden><div class=\"sk-item\"><div class=\"sk-estimator sk-toggleable\"><input class=\"sk-toggleable__control sk-hidden--visually\" id=\"sk-estimator-id-3\" type=\"checkbox\" checked><label for=\"sk-estimator-id-3\" class=\"sk-toggleable__label sk-toggleable__label-arrow\">KMeans</label><div class=\"sk-toggleable__content\"><pre>KMeans(n_clusters=6, n_init=&#x27;auto&#x27;, random_state=42)</pre></div></div></div></div></div>"
      ],
      "text/plain": [
       "KMeans(n_clusters=6, n_init='auto', random_state=42)"
      ]
     },
     "execution_count": 19,
     "metadata": {},
     "output_type": "execute_result"
    }
   ],
   "source": [
    "# 3d. Fit a K-Means Clustering model on the specific number of clusters at the elbow\n",
    "kmeans6 = KMeans(n_clusters=6, n_init='auto', random_state=42)\n",
    "kmeans6.fit(data_scaled)"
   ]
  },
  {
   "cell_type": "code",
   "execution_count": 20,
   "id": "6bbe6142",
   "metadata": {},
   "outputs": [
    {
     "data": {
      "image/png": "[encoded data removed]",
      "text/plain": [
       "<Figure size 640x480 with 2 Axes>"
      ]
     },
     "metadata": {},
     "output_type": "display_data"
    }
   ],
   "source": [
    "# 3e. Interpret the cluster centers using a heat map\n",
    "import seaborn as sns\n",
    "cluster_centers6 = pd.DataFrame(kmeans6.cluster_centers_, columns=data_scaled.columns)\n",
    "sns.heatmap(cluster_centers6, cmap='RdBu', annot=True);"
   ]
  },
  {
   "cell_type": "markdown",
   "id": "84567d86",
   "metadata": {},
   "source": [
    "* Cluster 0: **High Calories + Sguar**\n",
    "* Cluster 1: **Typical Cereals**\n",
    "* Cluster 2: **High Protein**\n",
    "* Cluster 3: **High Vitamins and Minerals**\n",
    "* Cluster 4: **High Sugar, Low Protein**\n",
    "* Cluster 5: **Low Calories + Sugar + Vitamins and Minerals**"
   ]
  },
  {
   "cell_type": "markdown",
   "id": "4e475e84",
   "metadata": {},
   "source": [
    "## 4. Select the Best K-Means Model"
   ]
  },
  {
   "cell_type": "code",
   "execution_count": 26,
   "id": "2e58544d-2cbb-427f-8c4c-bee2eac86bf7",
   "metadata": {},
   "outputs": [
    {
     "data": {
      "text/plain": [
       "model1_clusters\n",
       "Typical Cereals    58\n",
       "Empty Cereals      10\n",
       "Hearty Cereals      6\n",
       "Name: count, dtype: int64"
      ]
     },
     "execution_count": 26,
     "metadata": {},
     "output_type": "execute_result"
    }
   ],
   "source": [
    "# 1. Label each row in your original data set with a cluster name from the unstandardized data model and a cluster name from standardized data model\n",
    "# model 1: assign the cluster name to each row\n",
    "model1_clusters = pd.Series(kmeans3.labels_, name='model1_clusters')\n",
    "model1_names = model1_clusters.map({0: 'Typical Cereals',\n",
    "                                        1: 'Hearty Cereals',\n",
    "                                        2: 'Empty Cereals'})\n",
    "model1_names.value_counts()"
   ]
  },
  {
   "cell_type": "code",
   "execution_count": 23,
   "id": "b18abc65-b3c2-484c-becb-4bf3c769d652",
   "metadata": {},
   "outputs": [
    {
     "data": {
      "text/plain": [
       "model2_clusters\n",
       "Typical Cereals                                 25\n",
       "High Sugar, Low Protein                         18\n",
       "High Calories + Sugar                           10\n",
       "High Protein                                     8\n",
       "Low Calories + Sugar + Vitamins and Minerals     7\n",
       "High Vitamins and Minerals                       6\n",
       "Name: count, dtype: int64"
      ]
     },
     "execution_count": 23,
     "metadata": {},
     "output_type": "execute_result"
    }
   ],
   "source": [
    "# 2. Look at the number of cereals that fall into each cluster\n",
    "# model 2: assign the cluster name to each row\n",
    "model2_clusters = pd.Series(kmeans6.labels_, name='model2_clusters')\n",
    "model2_names = model2_clusters.map({0: 'High Calories + Sugar',\n",
    "                                    1: 'Typical Cereals',\n",
    "                                    2: 'High Protein',\n",
    "                                    3: 'High Vitamins and Minerals',\n",
    "                                    4: 'High Sugar, Low Protein',\n",
    "                                    5: 'Low Calories + Sugar + Vitamins and Minerals'})\n",
    "model2_names.value_counts()"
   ]
  },
  {
   "cell_type": "code",
   "execution_count": 24,
   "id": "4e2d2b31-c911-4057-8271-6eee1b76da9c",
   "metadata": {},
   "outputs": [],
   "source": [
    "# 3. Decide on the best model for our client\n",
    "# Model 1 has most cereals in a single cluster vs Model 2 has a better distribution, so let's go with Model 2"
   ]
  },
  {
   "cell_type": "code",
   "execution_count": null,
   "id": "6e513f13-bb83-499d-87fa-2c96993dd7d3",
   "metadata": {},
   "outputs": [],
   "source": [
    "# 4. Recommend a specific number of displays\n"
   ]
  },
  {
   "cell_type": "markdown",
   "id": "e62b8878",
   "metadata": {},
   "source": [
    "**Original Goal**: Help our client, Maven Supermarket, set up cereal displays around their store based on various niches of cereals\n",
    "\n",
    "**Our Recommendation**: Create 3 displays for:\n",
    "* Typical cereal\n",
    "* Sugary cereal\n",
    "* Healthy cereal"
   ]
  },
  {
   "cell_type": "code",
   "execution_count": null,
   "id": "54326709-65fa-4938-a562-8c8201df6e55",
   "metadata": {},
   "outputs": [],
   "source": [
    "# 5. Suggest a few cereals that should be shown in each display\n"
   ]
  },
  {
   "cell_type": "markdown",
   "id": "26d157b9",
   "metadata": {},
   "source": [
    "#### 1. Typical cereals to display in the cereal aisle"
   ]
  },
  {
   "cell_type": "code",
   "execution_count": 55,
   "id": "81aade54",
   "metadata": {},
   "outputs": [],
   "source": [
    "# combine the cluster names (Series) with the original data set\n",
    "cluster_names = pd.concat([df, model1_names, model2_names], axis=1)"
   ]
  },
  {
   "cell_type": "code",
   "execution_count": 35,
   "id": "9ec22ec6",
   "metadata": {},
   "outputs": [
    {
     "data": {
      "text/html": [
       "<div>\n",
       "<style scoped>\n",
       "    .dataframe tbody tr th:only-of-type {\n",
       "        vertical-align: middle;\n",
       "    }\n",
       "\n",
       "    .dataframe tbody tr th {\n",
       "        vertical-align: top;\n",
       "    }\n",
       "\n",
       "    .dataframe thead th {\n",
       "        text-align: right;\n",
       "    }\n",
       "</style>\n",
       "<table border=\"1\" class=\"dataframe\">\n",
       "  <thead>\n",
       "    <tr style=\"text-align: right;\">\n",
       "      <th></th>\n",
       "      <th>Cereal Name</th>\n",
       "      <th>Manufacturer</th>\n",
       "      <th>Calories</th>\n",
       "      <th>Protein (g)</th>\n",
       "      <th>Fat</th>\n",
       "      <th>Sugars</th>\n",
       "      <th>Vitamins and Minerals</th>\n",
       "      <th>model1_clusters</th>\n",
       "      <th>model2_clusters</th>\n",
       "    </tr>\n",
       "  </thead>\n",
       "  <tbody>\n",
       "    <tr>\n",
       "      <th>4</th>\n",
       "      <td>Almond_Delight</td>\n",
       "      <td>Ralston Purina</td>\n",
       "      <td>110</td>\n",
       "      <td>2</td>\n",
       "      <td>2</td>\n",
       "      <td>8</td>\n",
       "      <td>25</td>\n",
       "      <td>Typical Cereals</td>\n",
       "      <td>Typical Cereals</td>\n",
       "    </tr>\n",
       "    <tr>\n",
       "      <th>8</th>\n",
       "      <td>Bran_Chex</td>\n",
       "      <td>Ralston Purina</td>\n",
       "      <td>90</td>\n",
       "      <td>2</td>\n",
       "      <td>1</td>\n",
       "      <td>6</td>\n",
       "      <td>25</td>\n",
       "      <td>Typical Cereals</td>\n",
       "      <td>Typical Cereals</td>\n",
       "    </tr>\n",
       "    <tr>\n",
       "      <th>9</th>\n",
       "      <td>Bran_Flakes</td>\n",
       "      <td>Post</td>\n",
       "      <td>90</td>\n",
       "      <td>3</td>\n",
       "      <td>0</td>\n",
       "      <td>5</td>\n",
       "      <td>25</td>\n",
       "      <td>Typical Cereals</td>\n",
       "      <td>Typical Cereals</td>\n",
       "    </tr>\n",
       "    <tr>\n",
       "      <th>13</th>\n",
       "      <td>Clusters</td>\n",
       "      <td>General Mills</td>\n",
       "      <td>110</td>\n",
       "      <td>3</td>\n",
       "      <td>2</td>\n",
       "      <td>7</td>\n",
       "      <td>25</td>\n",
       "      <td>Typical Cereals</td>\n",
       "      <td>Typical Cereals</td>\n",
       "    </tr>\n",
       "    <tr>\n",
       "      <th>15</th>\n",
       "      <td>Corn_Chex</td>\n",
       "      <td>Ralston Purina</td>\n",
       "      <td>110</td>\n",
       "      <td>2</td>\n",
       "      <td>0</td>\n",
       "      <td>3</td>\n",
       "      <td>25</td>\n",
       "      <td>Typical Cereals</td>\n",
       "      <td>Typical Cereals</td>\n",
       "    </tr>\n",
       "  </tbody>\n",
       "</table>\n",
       "</div>"
      ],
      "text/plain": [
       "       Cereal Name    Manufacturer  Calories  Protein (g)  Fat  Sugars  \\\n",
       "4   Almond_Delight  Ralston Purina       110            2    2       8   \n",
       "8        Bran_Chex  Ralston Purina        90            2    1       6   \n",
       "9      Bran_Flakes            Post        90            3    0       5   \n",
       "13        Clusters   General Mills       110            3    2       7   \n",
       "15       Corn_Chex  Ralston Purina       110            2    0       3   \n",
       "\n",
       "    Vitamins and Minerals  model1_clusters  model2_clusters  \n",
       "4                      25  Typical Cereals  Typical Cereals  \n",
       "8                      25  Typical Cereals  Typical Cereals  \n",
       "9                      25  Typical Cereals  Typical Cereals  \n",
       "13                     25  Typical Cereals  Typical Cereals  \n",
       "15                     25  Typical Cereals  Typical Cereals  "
      ]
     },
     "execution_count": 35,
     "metadata": {},
     "output_type": "execute_result"
    }
   ],
   "source": [
    "# view the typical cereals\n",
    "cereal_typical = cluster_names[cluster_names.model2_clusters == 'Typical Cereals']\n",
    "cereal_typical.head()"
   ]
  },
  {
   "cell_type": "code",
   "execution_count": 33,
   "id": "889dbd85",
   "metadata": {},
   "outputs": [
    {
     "data": {
      "text/plain": [
       "Manufacturer\n",
       "Kelloggs                       23\n",
       "General Mills                  22\n",
       "Quaker Oats                     8\n",
       "Post                            8\n",
       "Nabisco                         6\n",
       "Ralston Purina                  6\n",
       "American Home Food Products     1\n",
       "Name: count, dtype: int64"
      ]
     },
     "execution_count": 33,
     "metadata": {},
     "output_type": "execute_result"
    }
   ],
   "source": [
    "# view the top manufacturers\n",
    "cluster_names.Manufacturer.value_counts()"
   ]
  },
  {
   "cell_type": "code",
   "execution_count": 44,
   "id": "f1a2effe",
   "metadata": {},
   "outputs": [
    {
     "data": {
      "text/html": [
       "<div>\n",
       "<style scoped>\n",
       "    .dataframe tbody tr th:only-of-type {\n",
       "        vertical-align: middle;\n",
       "    }\n",
       "\n",
       "    .dataframe tbody tr th {\n",
       "        vertical-align: top;\n",
       "    }\n",
       "\n",
       "    .dataframe thead th {\n",
       "        text-align: right;\n",
       "    }\n",
       "</style>\n",
       "<table border=\"1\" class=\"dataframe\">\n",
       "  <thead>\n",
       "    <tr style=\"text-align: right;\">\n",
       "      <th></th>\n",
       "      <th>Cereal Name</th>\n",
       "      <th>Manufacturer</th>\n",
       "      <th>Calories</th>\n",
       "      <th>Protein (g)</th>\n",
       "      <th>Fat</th>\n",
       "      <th>Sugars</th>\n",
       "      <th>Vitamins and Minerals</th>\n",
       "      <th>model1_clusters</th>\n",
       "      <th>model2_clusters</th>\n",
       "    </tr>\n",
       "  </thead>\n",
       "  <tbody>\n",
       "    <tr>\n",
       "      <th>69</th>\n",
       "      <td>Triples</td>\n",
       "      <td>General Mills</td>\n",
       "      <td>110</td>\n",
       "      <td>2</td>\n",
       "      <td>1</td>\n",
       "      <td>3</td>\n",
       "      <td>25</td>\n",
       "      <td>Typical Cereals</td>\n",
       "      <td>Typical Cereals</td>\n",
       "    </tr>\n",
       "    <tr>\n",
       "      <th>16</th>\n",
       "      <td>Corn_Flakes</td>\n",
       "      <td>Kelloggs</td>\n",
       "      <td>100</td>\n",
       "      <td>2</td>\n",
       "      <td>0</td>\n",
       "      <td>2</td>\n",
       "      <td>25</td>\n",
       "      <td>Typical Cereals</td>\n",
       "      <td>Typical Cereals</td>\n",
       "    </tr>\n",
       "    <tr>\n",
       "      <th>65</th>\n",
       "      <td>Strawberry_Fruit_Wheats</td>\n",
       "      <td>Nabisco</td>\n",
       "      <td>90</td>\n",
       "      <td>2</td>\n",
       "      <td>0</td>\n",
       "      <td>5</td>\n",
       "      <td>25</td>\n",
       "      <td>Typical Cereals</td>\n",
       "      <td>Typical Cereals</td>\n",
       "    </tr>\n",
       "    <tr>\n",
       "      <th>31</th>\n",
       "      <td>Grape_Nuts_Flakes</td>\n",
       "      <td>Post</td>\n",
       "      <td>100</td>\n",
       "      <td>3</td>\n",
       "      <td>1</td>\n",
       "      <td>5</td>\n",
       "      <td>25</td>\n",
       "      <td>Typical Cereals</td>\n",
       "      <td>Typical Cereals</td>\n",
       "    </tr>\n",
       "    <tr>\n",
       "      <th>15</th>\n",
       "      <td>Corn_Chex</td>\n",
       "      <td>Ralston Purina</td>\n",
       "      <td>110</td>\n",
       "      <td>2</td>\n",
       "      <td>0</td>\n",
       "      <td>3</td>\n",
       "      <td>25</td>\n",
       "      <td>Typical Cereals</td>\n",
       "      <td>Typical Cereals</td>\n",
       "    </tr>\n",
       "  </tbody>\n",
       "</table>\n",
       "</div>"
      ],
      "text/plain": [
       "                Cereal Name    Manufacturer  Calories  Protein (g)  Fat  \\\n",
       "69                  Triples   General Mills       110            2    1   \n",
       "16              Corn_Flakes        Kelloggs       100            2    0   \n",
       "65  Strawberry_Fruit_Wheats         Nabisco        90            2    0   \n",
       "31        Grape_Nuts_Flakes            Post       100            3    1   \n",
       "15                Corn_Chex  Ralston Purina       110            2    0   \n",
       "\n",
       "    Sugars  Vitamins and Minerals  model1_clusters  model2_clusters  \n",
       "69       3                     25  Typical Cereals  Typical Cereals  \n",
       "16       2                     25  Typical Cereals  Typical Cereals  \n",
       "65       5                     25  Typical Cereals  Typical Cereals  \n",
       "31       5                     25  Typical Cereals  Typical Cereals  \n",
       "15       3                     25  Typical Cereals  Typical Cereals  "
      ]
     },
     "execution_count": 44,
     "metadata": {},
     "output_type": "execute_result"
    }
   ],
   "source": [
    "# select one cereal from each major manufacturer -- maybe corn flakes and cheerios\n",
    "# cereal_typical[cereal_typical.Manufacturer.isin(['Kelloggs', 'General Mills'])].head()\n",
    "cereal_typical.groupby([\"Manufacturer\"]).sample(n=1, random_state=12)"
   ]
  },
  {
   "cell_type": "markdown",
   "id": "32151247",
   "metadata": {},
   "source": [
    "#### 2. Sugary cereals to display near the snacks & candy aisle"
   ]
  },
  {
   "cell_type": "code",
   "execution_count": 52,
   "id": "e5e5fbcf",
   "metadata": {},
   "outputs": [],
   "source": [
    "# view the sugary cereals\n",
    "# cereal_sugary = cluster_names[cluster_names.model2_clusters.isin(['High Calories + Sugar',\n",
    "#                                                                   'High Sugar, Low Protein'])]\n",
    "cereal_sugary = cluster_names[cluster_names.model2_clusters.str.contains('Sugar')]"
   ]
  },
  {
   "cell_type": "code",
   "execution_count": 53,
   "id": "dbee6a2f",
   "metadata": {},
   "outputs": [
    {
     "data": {
      "text/html": [
       "<div>\n",
       "<style scoped>\n",
       "    .dataframe tbody tr th:only-of-type {\n",
       "        vertical-align: middle;\n",
       "    }\n",
       "\n",
       "    .dataframe tbody tr th {\n",
       "        vertical-align: top;\n",
       "    }\n",
       "\n",
       "    .dataframe thead th {\n",
       "        text-align: right;\n",
       "    }\n",
       "</style>\n",
       "<table border=\"1\" class=\"dataframe\">\n",
       "  <thead>\n",
       "    <tr style=\"text-align: right;\">\n",
       "      <th></th>\n",
       "      <th>Cereal Name</th>\n",
       "      <th>Manufacturer</th>\n",
       "      <th>Calories</th>\n",
       "      <th>Protein (g)</th>\n",
       "      <th>Fat</th>\n",
       "      <th>Sugars</th>\n",
       "      <th>Vitamins and Minerals</th>\n",
       "      <th>model1_clusters</th>\n",
       "      <th>model2_clusters</th>\n",
       "    </tr>\n",
       "  </thead>\n",
       "  <tbody>\n",
       "    <tr>\n",
       "      <th>63</th>\n",
       "      <td>Smacks</td>\n",
       "      <td>Kelloggs</td>\n",
       "      <td>110</td>\n",
       "      <td>2</td>\n",
       "      <td>1</td>\n",
       "      <td>15</td>\n",
       "      <td>25</td>\n",
       "      <td>Typical Cereals</td>\n",
       "      <td>High Sugar, Low Protein</td>\n",
       "    </tr>\n",
       "    <tr>\n",
       "      <th>29</th>\n",
       "      <td>Golden_Crisp</td>\n",
       "      <td>Post</td>\n",
       "      <td>100</td>\n",
       "      <td>2</td>\n",
       "      <td>0</td>\n",
       "      <td>15</td>\n",
       "      <td>25</td>\n",
       "      <td>Typical Cereals</td>\n",
       "      <td>High Sugar, Low Protein</td>\n",
       "    </tr>\n",
       "    <tr>\n",
       "      <th>6</th>\n",
       "      <td>Apple_Jacks</td>\n",
       "      <td>Kelloggs</td>\n",
       "      <td>110</td>\n",
       "      <td>2</td>\n",
       "      <td>0</td>\n",
       "      <td>14</td>\n",
       "      <td>25</td>\n",
       "      <td>Typical Cereals</td>\n",
       "      <td>High Sugar, Low Protein</td>\n",
       "    </tr>\n",
       "    <tr>\n",
       "      <th>49</th>\n",
       "      <td>Post_Nat._Raisin_Bran</td>\n",
       "      <td>Post</td>\n",
       "      <td>120</td>\n",
       "      <td>3</td>\n",
       "      <td>1</td>\n",
       "      <td>14</td>\n",
       "      <td>25</td>\n",
       "      <td>Typical Cereals</td>\n",
       "      <td>High Calories + Sugar</td>\n",
       "    </tr>\n",
       "    <tr>\n",
       "      <th>43</th>\n",
       "      <td>Mueslix_Crispy_Blend</td>\n",
       "      <td>Kelloggs</td>\n",
       "      <td>160</td>\n",
       "      <td>3</td>\n",
       "      <td>2</td>\n",
       "      <td>13</td>\n",
       "      <td>25</td>\n",
       "      <td>Typical Cereals</td>\n",
       "      <td>High Calories + Sugar</td>\n",
       "    </tr>\n",
       "  </tbody>\n",
       "</table>\n",
       "</div>"
      ],
      "text/plain": [
       "              Cereal Name Manufacturer  Calories  Protein (g)  Fat  Sugars  \\\n",
       "63                 Smacks     Kelloggs       110            2    1      15   \n",
       "29           Golden_Crisp         Post       100            2    0      15   \n",
       "6             Apple_Jacks     Kelloggs       110            2    0      14   \n",
       "49  Post_Nat._Raisin_Bran         Post       120            3    1      14   \n",
       "43   Mueslix_Crispy_Blend     Kelloggs       160            3    2      13   \n",
       "\n",
       "    Vitamins and Minerals  model1_clusters          model2_clusters  \n",
       "63                     25  Typical Cereals  High Sugar, Low Protein  \n",
       "29                     25  Typical Cereals  High Sugar, Low Protein  \n",
       "6                      25  Typical Cereals  High Sugar, Low Protein  \n",
       "49                     25  Typical Cereals    High Calories + Sugar  \n",
       "43                     25  Typical Cereals    High Calories + Sugar  "
      ]
     },
     "execution_count": 53,
     "metadata": {},
     "output_type": "execute_result"
    }
   ],
   "source": [
    "# sort by most sugar -- maybe golden crisp and smacks\n",
    "cereal_sugary.sort_values('Sugars', ascending=False).head()"
   ]
  },
  {
   "cell_type": "markdown",
   "id": "71e0ad97",
   "metadata": {},
   "source": [
    "#### 3. Healthy cereals to display near the healthy foods aisle"
   ]
  },
  {
   "cell_type": "code",
   "execution_count": 58,
   "id": "866ba316",
   "metadata": {},
   "outputs": [
    {
     "data": {
      "text/plain": [
       "model2_clusters\n",
       "High Protein                                    8\n",
       "Low Calories + Sugar + Vitamins and Minerals    7\n",
       "High Vitamins and Minerals                      6\n",
       "Name: count, dtype: int64"
      ]
     },
     "execution_count": 58,
     "metadata": {},
     "output_type": "execute_result"
    }
   ],
   "source": [
    "cereal_healthy = cluster_names[(cluster_names.model2_clusters.str.contains('High Protein|Vitamins and Minerals', regex=True))]\n",
    "cereal_healthy.model2_clusters.value_counts()"
   ]
  },
  {
   "cell_type": "code",
   "execution_count": 59,
   "id": "c2410437",
   "metadata": {},
   "outputs": [
    {
     "data": {
      "text/html": [
       "<div>\n",
       "<style scoped>\n",
       "    .dataframe tbody tr th:only-of-type {\n",
       "        vertical-align: middle;\n",
       "    }\n",
       "\n",
       "    .dataframe tbody tr th {\n",
       "        vertical-align: top;\n",
       "    }\n",
       "\n",
       "    .dataframe thead th {\n",
       "        text-align: right;\n",
       "    }\n",
       "</style>\n",
       "<table border=\"1\" class=\"dataframe\">\n",
       "  <thead>\n",
       "    <tr style=\"text-align: right;\">\n",
       "      <th></th>\n",
       "      <th>Cereal Name</th>\n",
       "      <th>Manufacturer</th>\n",
       "      <th>Calories</th>\n",
       "      <th>Protein (g)</th>\n",
       "      <th>Fat</th>\n",
       "      <th>Sugars</th>\n",
       "      <th>Vitamins and Minerals</th>\n",
       "      <th>model1_clusters</th>\n",
       "      <th>model2_clusters</th>\n",
       "    </tr>\n",
       "  </thead>\n",
       "  <tbody>\n",
       "    <tr>\n",
       "      <th>11</th>\n",
       "      <td>Cheerios</td>\n",
       "      <td>General Mills</td>\n",
       "      <td>110</td>\n",
       "      <td>6</td>\n",
       "      <td>2</td>\n",
       "      <td>1</td>\n",
       "      <td>25</td>\n",
       "      <td>Typical Cereals</td>\n",
       "      <td>High Protein</td>\n",
       "    </tr>\n",
       "    <tr>\n",
       "      <th>64</th>\n",
       "      <td>Special_K</td>\n",
       "      <td>Kelloggs</td>\n",
       "      <td>110</td>\n",
       "      <td>6</td>\n",
       "      <td>0</td>\n",
       "      <td>3</td>\n",
       "      <td>25</td>\n",
       "      <td>Typical Cereals</td>\n",
       "      <td>High Protein</td>\n",
       "    </tr>\n",
       "    <tr>\n",
       "      <th>54</th>\n",
       "      <td>Quaker_Oatmeal</td>\n",
       "      <td>Quaker Oats</td>\n",
       "      <td>100</td>\n",
       "      <td>5</td>\n",
       "      <td>2</td>\n",
       "      <td>-1</td>\n",
       "      <td>0</td>\n",
       "      <td>Empty Cereals</td>\n",
       "      <td>High Protein</td>\n",
       "    </tr>\n",
       "    <tr>\n",
       "      <th>0</th>\n",
       "      <td>100%_Bran</td>\n",
       "      <td>Nabisco</td>\n",
       "      <td>70</td>\n",
       "      <td>4</td>\n",
       "      <td>1</td>\n",
       "      <td>6</td>\n",
       "      <td>25</td>\n",
       "      <td>Empty Cereals</td>\n",
       "      <td>High Protein</td>\n",
       "    </tr>\n",
       "    <tr>\n",
       "      <th>53</th>\n",
       "      <td>Quaker_Oat_Squares</td>\n",
       "      <td>Quaker Oats</td>\n",
       "      <td>100</td>\n",
       "      <td>4</td>\n",
       "      <td>1</td>\n",
       "      <td>6</td>\n",
       "      <td>25</td>\n",
       "      <td>Typical Cereals</td>\n",
       "      <td>High Protein</td>\n",
       "    </tr>\n",
       "  </tbody>\n",
       "</table>\n",
       "</div>"
      ],
      "text/plain": [
       "           Cereal Name   Manufacturer  Calories  Protein (g)  Fat  Sugars  \\\n",
       "11            Cheerios  General Mills       110            6    2       1   \n",
       "64           Special_K       Kelloggs       110            6    0       3   \n",
       "54      Quaker_Oatmeal    Quaker Oats       100            5    2      -1   \n",
       "0            100%_Bran        Nabisco        70            4    1       6   \n",
       "53  Quaker_Oat_Squares    Quaker Oats       100            4    1       6   \n",
       "\n",
       "    Vitamins and Minerals  model1_clusters model2_clusters  \n",
       "11                     25  Typical Cereals    High Protein  \n",
       "64                     25  Typical Cereals    High Protein  \n",
       "54                      0    Empty Cereals    High Protein  \n",
       "0                      25    Empty Cereals    High Protein  \n",
       "53                     25  Typical Cereals    High Protein  "
      ]
     },
     "execution_count": 59,
     "metadata": {},
     "output_type": "execute_result"
    }
   ],
   "source": [
    "# sort by most protein -- maybe cheerios and special k\n",
    "cereal_healthy.sort_values('Protein (g)', ascending=False).head()"
   ]
  },
  {
   "cell_type": "markdown",
   "id": "62474185",
   "metadata": {},
   "source": [
    "## 5. Hierarchical Clustering"
   ]
  },
  {
   "cell_type": "code",
   "execution_count": null,
   "id": "033ac9ba",
   "metadata": {},
   "outputs": [],
   "source": [
    "# 1. Create a dendrogram using the 5 numeric fields of the cereal data set\n"
   ]
  },
  {
   "cell_type": "code",
   "execution_count": null,
   "id": "c4d8afc5-16fa-4939-b83f-a0199bb2515c",
   "metadata": {},
   "outputs": [],
   "source": [
    "# 2. Visually identify the ”best” number of clusters and adjust the color_threshold\n"
   ]
  },
  {
   "cell_type": "code",
   "execution_count": null,
   "id": "5814e329-6b3a-44a2-810d-c9f5654af1d9",
   "metadata": {},
   "outputs": [],
   "source": [
    "# 3. Create a dendrogram using the 4 numeric, standardized fields (excluding “Fat”) of the cereal data set\n"
   ]
  },
  {
   "cell_type": "code",
   "execution_count": null,
   "id": "92d4b674-b22e-498d-b7b8-dfed5a3c1eff",
   "metadata": {},
   "outputs": [],
   "source": [
    "# 4. Visually identify the ”best” number of clusters and adjust the color_threshold\n"
   ]
  },
  {
   "cell_type": "code",
   "execution_count": null,
   "id": "df80b0fd-a0e3-4cf0-a62c-c830cac13283",
   "metadata": {},
   "outputs": [],
   "source": [
    "# 5. Fit an agglomerative clustering model on the scaled data set with four clusters and view the labels\n"
   ]
  },
  {
   "cell_type": "code",
   "execution_count": null,
   "id": "5425f7c7-80f5-46f7-ab28-806144c999e8",
   "metadata": {},
   "outputs": [],
   "source": [
    "# 6. Create a cluster map of the “best” results and interpret the clusters\n"
   ]
  },
  {
   "cell_type": "markdown",
   "id": "fe6716fb",
   "metadata": {},
   "source": [
    "## 6. DBSCAN"
   ]
  },
  {
   "cell_type": "code",
   "execution_count": null,
   "id": "c20ac81b",
   "metadata": {},
   "outputs": [],
   "source": [
    "# 1. Copy over the function that loops through multiple eps and min_samples values to fit multiple DBSCAN models\n"
   ]
  },
  {
   "cell_type": "code",
   "execution_count": null,
   "id": "59e0e791-36f0-4917-a803-18b2ea4035eb",
   "metadata": {},
   "outputs": [],
   "source": [
    "# 2. Apply the function on both the original and standardized data sets\n"
   ]
  },
  {
   "cell_type": "code",
   "execution_count": null,
   "id": "08ab2904-92a7-49ef-a237-6c716711b900",
   "metadata": {},
   "outputs": [],
   "source": [
    "# 3. Find the highest silhouette score and note down the eps and min_samples values\n"
   ]
  },
  {
   "cell_type": "code",
   "execution_count": null,
   "id": "9313f663",
   "metadata": {},
   "outputs": [],
   "source": [
    "# 4. Fit a final DBSCAN model with those eps and min_samples values and view the labels\n"
   ]
  },
  {
   "cell_type": "code",
   "execution_count": null,
   "id": "e4a5fa09-4aa4-43c5-830d-f9bb993b42fd",
   "metadata": {},
   "outputs": [],
   "source": []
  }
 ],
 "metadata": {
  "kernelspec": {
   "display_name": "Python 3 (ipykernel)",
   "language": "python",
   "name": "python3"
  },
  "language_info": {
   "codemirror_mode": {
    "name": "ipython",
    "version": 3
   },
   "file_extension": ".py",
   "mimetype": "text/x-python",
   "name": "python",
   "nbconvert_exporter": "python",
   "pygments_lexer": "ipython3",
   "version": "3.9.0"
  }
 },
 "nbformat": 4,
 "nbformat_minor": 5
}

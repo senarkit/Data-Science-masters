{
 "cells": [
  {
   "cell_type": "markdown",
   "id": "47bb3e41-39f0-4d68-94a9-674b31279388",
   "metadata": {},
   "source": [
    "Q1. Which keyword is used to create a function? Create a function to return a list of odd numbers in the\n",
    "range of 1 to 25.<br>"
   ]
  },
  {
   "cell_type": "code",
   "execution_count": 3,
   "id": "7ad1d586-80ad-43a8-b2f2-1a294eaaf089",
   "metadata": {},
   "outputs": [
    {
     "data": {
      "text/plain": [
       "[1, 3, 5, 7, 9, 11, 13, 15, 17, 19, 21, 23]"
      ]
     },
     "execution_count": 3,
     "metadata": {},
     "output_type": "execute_result"
    }
   ],
   "source": [
    "# def keywaord is used to define a func. eg below -\n",
    "def odd_num():\n",
    "    return [i for i in range(1,25) if i%2!=0]\n",
    "\n",
    "odd_num()"
   ]
  },
  {
   "cell_type": "markdown",
   "id": "3b88148e-992d-426c-889c-44a770068cfd",
   "metadata": {},
   "source": [
    "Q2. Why *args and **kwargs is used in some functions? Create a function each for *args and **kwargs to\n",
    "demonstrate their use."
   ]
  },
  {
   "cell_type": "code",
   "execution_count": 10,
   "id": "73a7d14d-6cd7-44c8-98cd-612f449b9665",
   "metadata": {},
   "outputs": [],
   "source": [
    "# if we need a function where the number of input arguments are dynamic we use *args\n",
    "# returns parameters inside a TUPLE\n",
    "\n",
    "def test_args(*args):\n",
    "    lst = []\n",
    "    for i in args:\n",
    "        if type(i) == list:\n",
    "            lst.append(i)\n",
    "    return lst"
   ]
  },
  {
   "cell_type": "code",
   "execution_count": 12,
   "id": "b61e9482-9c0c-4716-a729-fcb730df468b",
   "metadata": {},
   "outputs": [
    {
     "data": {
      "text/plain": [
       "[[1, 2, 3], [2, 3], [2]]"
      ]
     },
     "execution_count": 12,
     "metadata": {},
     "output_type": "execute_result"
    }
   ],
   "source": [
    "test_args(1,4,5,[1,2,3],\"test\",[2,3],[2])"
   ]
  },
  {
   "cell_type": "code",
   "execution_count": 34,
   "id": "e0bd0567-89d3-4c56-85c1-4d944f4c948a",
   "metadata": {},
   "outputs": [],
   "source": [
    "# if we need key, value pairs to be passed in func we use **kwargs\n",
    "# returns a DICT\n",
    "\n",
    "def test_kwargs(**kwargs):\n",
    "    lst = []\n",
    "    for k,v in kwargs.items():\n",
    "        if type(v) == list:\n",
    "            lst.append(v)\n",
    "    return lst"
   ]
  },
  {
   "cell_type": "code",
   "execution_count": 35,
   "id": "73961cc6-2b43-46d3-94fa-adbebc5aa3d1",
   "metadata": {},
   "outputs": [
    {
     "data": {
      "text/plain": [
       "[[1, 2, 3], [2, 3]]"
      ]
     },
     "execution_count": 35,
     "metadata": {},
     "output_type": "execute_result"
    }
   ],
   "source": [
    "test_kwargs(a=[1,2,3], b=\"test\",c=[2,3],d=2)"
   ]
  },
  {
   "cell_type": "markdown",
   "id": "ea6fbe7e-89a2-4c8b-a3a4-53cc38d2242c",
   "metadata": {},
   "source": [
    "Q3. What is an iterator in python? Name the method used to initialise the iterator object and the method\n",
    "used for iteration. Use these methods to print the first five elements of the given list [2, 4, 6, 8, 10, 12, 14, 16,\n",
    "18, 20]."
   ]
  },
  {
   "cell_type": "code",
   "execution_count": 39,
   "id": "f1de7814-52fa-44fa-9968-2d00cc616be9",
   "metadata": {},
   "outputs": [
    {
     "name": "stdout",
     "output_type": "stream",
     "text": [
      "2\n",
      "4\n"
     ]
    }
   ],
   "source": [
    "# Iterator helps to iterate over a tuple/string/list. Next() keyword is used ot go to the next element\n",
    "lst = [2, 4, 6, 8, 10, 12, 14, 16, 18, 20]\n",
    "test = iter(lst)\n",
    "print(next(test))\n",
    "print(next(test))"
   ]
  },
  {
   "cell_type": "markdown",
   "id": "9671cf92-c46c-4ac7-93c3-ed4799359f6c",
   "metadata": {},
   "source": [
    "Q4. What is a generator function in python? Why yield keyword is used? Give an example of a generator\n",
    "function."
   ]
  },
  {
   "cell_type": "code",
   "execution_count": 44,
   "id": "53789f58-2359-438d-bc4b-117d4f143920",
   "metadata": {},
   "outputs": [
    {
     "name": "stdout",
     "output_type": "stream",
     "text": [
      "0\n",
      "1\n",
      "1\n",
      "2\n",
      "3\n",
      "5\n",
      "8\n",
      "13\n",
      "21\n",
      "34\n"
     ]
    }
   ],
   "source": [
    "''' A Python generator function allows you to declare a function that behaves like an iterator, \n",
    " providing a faster and easier way to create iterators. They can be used on an abstract container \n",
    "of data to turn it into an iterable object like lists, dictionaries and strings '''\n",
    "\n",
    "''' The Yield keyword is used for the generator func, it doesnt store the whole list/data in memory, \n",
    "instead tries to give the result when triggered'''\n",
    "\n",
    "def test_generator(n):\n",
    "    a,b=0,1\n",
    "    for i in range(n):\n",
    "        yield a\n",
    "        a,b = b, a+b\n",
    "        \n",
    "# Creates a generator object\n",
    "test_generator(10)\n",
    "\n",
    "# To get data from a generator obj\n",
    "for i in test_generator(10):\n",
    "    print(i)"
   ]
  },
  {
   "cell_type": "markdown",
   "id": "400910c4-2de9-4723-8ddf-c38401627d9b",
   "metadata": {},
   "source": [
    "Q5. Create a generator function for prime numbers less than 1000. Use the next() method to print the\n",
    "first 20 prime numbers."
   ]
  },
  {
   "cell_type": "code",
   "execution_count": 60,
   "id": "edd99f09-e6d7-47ce-b2ba-929405f26c6e",
   "metadata": {},
   "outputs": [],
   "source": [
    "def isprime(num):\n",
    "    ''' function to check if a number is prime or not'''\n",
    "    div = 0\n",
    "    for i in range(2,num):\n",
    "        if num % i == 0:\n",
    "            div = 1\n",
    "    if div == 0:\n",
    "        return True\n",
    "    \n",
    "def test_generator_prime(n):\n",
    "    ''' Generator function to produce prime numbers upto the given range'''\n",
    "    for i in range(n):\n",
    "        if isprime(i):\n",
    "            yield i\n",
    "            "
   ]
  },
  {
   "cell_type": "code",
   "execution_count": 62,
   "id": "4d491a5d-5ce3-43b7-b948-5895ac44f3f4",
   "metadata": {},
   "outputs": [
    {
     "name": "stdout",
     "output_type": "stream",
     "text": [
      "[0, 1, 2, 3, 5, 7, 11, 13, 17, 19, 23, 29, 31, 37, 41, 43, 47, 53, 59, 61, 67, 71, 73, 79, 83, 89, 97]\n"
     ]
    }
   ],
   "source": [
    "lst = []\n",
    "for i in test_generator_prime(100):\n",
    "    lst.append(i)\n",
    "print(lst)"
   ]
  },
  {
   "cell_type": "code",
   "execution_count": null,
   "id": "bdfa2f54-f1e8-4ff0-b5c3-1f4cd17c84b7",
   "metadata": {},
   "outputs": [],
   "source": []
  }
 ],
 "metadata": {
  "kernelspec": {
   "display_name": "Python 3 (ipykernel)",
   "language": "python",
   "name": "python3"
  },
  "language_info": {
   "codemirror_mode": {
    "name": "ipython",
    "version": 3
   },
   "file_extension": ".py",
   "mimetype": "text/x-python",
   "name": "python",
   "nbconvert_exporter": "python",
   "pygments_lexer": "ipython3",
   "version": "3.10.8"
  }
 },
 "nbformat": 4,
 "nbformat_minor": 5
}
